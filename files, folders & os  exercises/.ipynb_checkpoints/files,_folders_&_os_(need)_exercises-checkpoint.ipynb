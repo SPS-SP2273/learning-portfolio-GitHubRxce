{
 "cells": [
  {
   "attachments": {},
   "cell_type": "markdown",
   "id": "123456",
   "metadata": {},
   "source": [
    "<div style=\"text-align:left;font-size:2em\"><span style=\"font-weight:bolder;font-size:1.25em\">SP2273 | Learning Portfolio</span><br><br><span style=\"font-weight:bold;color:darkred\">Files, Folders & OS (Need) Exercises</span></div>"
   ]
  },
  {
   "cell_type": "markdown",
   "id": "c0c93bad-d120-4138-b33c-406e35b177d0",
   "metadata": {},
   "source": [
    "## Task 1"
   ]
  },
  {
   "cell_type": "code",
   "execution_count": 2,
   "id": "d47d3333-14b5-4b4c-8a84-bc8e0a20f4fa",
   "metadata": {},
   "outputs": [
    {
     "name": "stdout",
     "output_type": "stream",
     "text": [
      "10-08-singapore.txt\n"
     ]
    }
   ],
   "source": [
    "month_dict = {\n",
    "'jan': '01', 'feb': '02', 'mar': '03',\n",
    "'apr': '04', 'may': '05', 'jun': '06',\n",
    "'jul': '07', 'aug': '08', 'sep': '09',\n",
    "'oct': '10', 'nov': '11', 'dec': '12'\n",
    "}\n",
    "\n",
    "file_name = 'oct-08-singapore.txt'\n",
    "\n",
    "parts = file_name.split('-')\n",
    "\n",
    "month = parts[0]\n",
    "date = parts[1]\n",
    "city = parts[2].split('.')[0]  \n",
    "\n",
    "numerical_month = month_dict[month.lower()]\n",
    "\n",
    "new_file_name = f\"{numerical_month}-{date}-{city}.txt\"\n",
    "\n",
    "print(new_file_name)\n"
   ]
  },
  {
   "cell_type": "markdown",
   "id": "3393254d-7d83-49b1-8918-babe2c43df31",
   "metadata": {},
   "source": [
    "## Task 2"
   ]
  },
  {
   "cell_type": "code",
   "execution_count": 3,
   "id": "6989238c-dd31-4dd6-998e-1c2bbf25d7fa",
   "metadata": {},
   "outputs": [
    {
     "name": "stdout",
     "output_type": "stream",
     "text": [
      "10-08-singapore.txt\n"
     ]
    }
   ],
   "source": [
    "def rename_my_file(old_file_name): \n",
    "    month_dict = {\n",
    "    'jan': '01', 'feb': '02', 'mar': '03',\n",
    "    'apr': '04', 'may': '05', 'jun': '06',\n",
    "    'jul': '07', 'aug': '08', 'sep': '09',\n",
    "    'oct': '10', 'nov': '11', 'dec': '12'\n",
    "    }\n",
    "    \n",
    "    file_name = 'oct-08-singapore.txt'\n",
    "    \n",
    "    parts = file_name.split('-')\n",
    "    \n",
    "    month = parts[0]\n",
    "    date = parts[1]\n",
    "    city = parts[2].split('.')[0]  \n",
    "    \n",
    "    numerical_month = month_dict[month.lower()]\n",
    "    \n",
    "    new_file_name = f\"{numerical_month}-{date}-{city}.txt\"\n",
    "\n",
    "    return new_file_name\n",
    "\n",
    "old_file_name = 'oct-08-singapore.txt'\n",
    "new_file_name = rename_my_file(old_file_name)\n",
    "print(new_file_name)"
   ]
  },
  {
   "cell_type": "markdown",
   "id": "93d288eb-cf44-43cd-a01f-dc9ee6d0c13e",
   "metadata": {},
   "source": [
    "## Task 3"
   ]
  },
  {
   "cell_type": "code",
   "execution_count": 4,
   "id": "286e598d-6d00-46bc-8e65-8d938c40da95",
   "metadata": {},
   "outputs": [
    {
     "name": "stdout",
     "output_type": "stream",
     "text": [
      "oct-08_singapore.txt ----> 10-08-singapore.txt\n",
      "jul-10_cairo.txt ----> 10-08-singapore.txt\n",
      "may-15_dhaka.txt ----> 10-08-singapore.txt\n",
      "may-13_cairo.txt ----> 10-08-singapore.txt\n",
      "oct-21_cairo.txt ----> 10-08-singapore.txt\n",
      "jan-10_singapore.txt ----> 10-08-singapore.txt\n",
      "jun-20_tokyo.txt ----> 10-08-singapore.txt\n",
      "aug-06_jakarta.txt ----> 10-08-singapore.txt\n",
      "dec-21_karachi.txt ----> 10-08-singapore.txt\n",
      "jan-01_tokyo.txt ----> 10-08-singapore.txt\n"
     ]
    }
   ],
   "source": [
    "file_list = ['oct-08_singapore.txt', 'jul-10_cairo.txt', 'may-15_dhaka.txt',\n",
    " 'may-13_cairo.txt', 'oct-21_cairo.txt', 'jan-10_singapore.txt',\n",
    " 'jun-20_tokyo.txt', 'aug-06_jakarta.txt', 'dec-21_karachi.txt',\n",
    " 'jan-01_tokyo.txt']\n",
    "\n",
    "for old_file_name in file_list:\n",
    "    new_file_name = rename_my_file(old_file_name)\n",
    "    print(f'{old_file_name} ----> {new_file_name}')\n"
   ]
  },
  {
   "cell_type": "markdown",
   "id": "a90242c6-b7e4-43ca-80ac-8773865965cc",
   "metadata": {},
   "source": [
    "## Task 4"
   ]
  },
  {
   "cell_type": "code",
   "execution_count": 46,
   "id": "699fe9a1-d301-4c4f-b9d8-2fd86e7b3afe",
   "metadata": {},
   "outputs": [
    {
     "ename": "AttributeError",
     "evalue": "'tuple' object has no attribute 'split'",
     "output_type": "error",
     "traceback": [
      "\u001b[1;31m---------------------------------------------------------------------------\u001b[0m",
      "\u001b[1;31mAttributeError\u001b[0m                            Traceback (most recent call last)",
      "Cell \u001b[1;32mIn[46], line 38\u001b[0m\n\u001b[0;32m     35\u001b[0m txt_files \u001b[38;5;241m=\u001b[39m glob\u001b[38;5;241m.\u001b[39mglob(os\u001b[38;5;241m.\u001b[39mpath\u001b[38;5;241m.\u001b[39mjoin(folder_path, \u001b[38;5;124m\"\u001b[39m\u001b[38;5;124m*.txt\u001b[39m\u001b[38;5;124m\"\u001b[39m))\n\u001b[0;32m     37\u001b[0m \u001b[38;5;28;01mfor\u001b[39;00m old_file_name \u001b[38;5;129;01min\u001b[39;00m txt_files:\n\u001b[1;32m---> 38\u001b[0m     new_file_name \u001b[38;5;241m=\u001b[39m \u001b[43mrename_my_file\u001b[49m\u001b[43m(\u001b[49m\u001b[43mold_file_name\u001b[49m\u001b[43m)\u001b[49m\n\u001b[0;32m     40\u001b[0m     os\u001b[38;5;241m.\u001b[39mrename(old_file_name, new_file_name)\n\u001b[0;32m     42\u001b[0m \u001b[38;5;28mprint\u001b[39m(\u001b[38;5;124mf\u001b[39m\u001b[38;5;124m'\u001b[39m\u001b[38;5;132;01m{\u001b[39;00mold_file_name\u001b[38;5;132;01m}\u001b[39;00m\u001b[38;5;124m ----> \u001b[39m\u001b[38;5;132;01m{\u001b[39;00mnew_file_name\u001b[38;5;132;01m}\u001b[39;00m\u001b[38;5;124m'\u001b[39m)\n",
      "Cell \u001b[1;32mIn[46], line 13\u001b[0m, in \u001b[0;36mrename_my_file\u001b[1;34m(old_file_name)\u001b[0m\n\u001b[0;32m      5\u001b[0m month_dict \u001b[38;5;241m=\u001b[39m {\n\u001b[0;32m      6\u001b[0m     \u001b[38;5;124m'\u001b[39m\u001b[38;5;124mjan\u001b[39m\u001b[38;5;124m'\u001b[39m: \u001b[38;5;124m'\u001b[39m\u001b[38;5;124m01\u001b[39m\u001b[38;5;124m'\u001b[39m, \u001b[38;5;124m'\u001b[39m\u001b[38;5;124mfeb\u001b[39m\u001b[38;5;124m'\u001b[39m: \u001b[38;5;124m'\u001b[39m\u001b[38;5;124m02\u001b[39m\u001b[38;5;124m'\u001b[39m, \u001b[38;5;124m'\u001b[39m\u001b[38;5;124mmar\u001b[39m\u001b[38;5;124m'\u001b[39m: \u001b[38;5;124m'\u001b[39m\u001b[38;5;124m03\u001b[39m\u001b[38;5;124m'\u001b[39m,\n\u001b[0;32m      7\u001b[0m     \u001b[38;5;124m'\u001b[39m\u001b[38;5;124mapr\u001b[39m\u001b[38;5;124m'\u001b[39m: \u001b[38;5;124m'\u001b[39m\u001b[38;5;124m04\u001b[39m\u001b[38;5;124m'\u001b[39m, \u001b[38;5;124m'\u001b[39m\u001b[38;5;124mmay\u001b[39m\u001b[38;5;124m'\u001b[39m: \u001b[38;5;124m'\u001b[39m\u001b[38;5;124m05\u001b[39m\u001b[38;5;124m'\u001b[39m, \u001b[38;5;124m'\u001b[39m\u001b[38;5;124mjun\u001b[39m\u001b[38;5;124m'\u001b[39m: \u001b[38;5;124m'\u001b[39m\u001b[38;5;124m06\u001b[39m\u001b[38;5;124m'\u001b[39m,\n\u001b[0;32m      8\u001b[0m     \u001b[38;5;124m'\u001b[39m\u001b[38;5;124mjul\u001b[39m\u001b[38;5;124m'\u001b[39m: \u001b[38;5;124m'\u001b[39m\u001b[38;5;124m07\u001b[39m\u001b[38;5;124m'\u001b[39m, \u001b[38;5;124m'\u001b[39m\u001b[38;5;124maug\u001b[39m\u001b[38;5;124m'\u001b[39m: \u001b[38;5;124m'\u001b[39m\u001b[38;5;124m08\u001b[39m\u001b[38;5;124m'\u001b[39m, \u001b[38;5;124m'\u001b[39m\u001b[38;5;124msep\u001b[39m\u001b[38;5;124m'\u001b[39m: \u001b[38;5;124m'\u001b[39m\u001b[38;5;124m09\u001b[39m\u001b[38;5;124m'\u001b[39m,\n\u001b[0;32m      9\u001b[0m     \u001b[38;5;124m'\u001b[39m\u001b[38;5;124moct\u001b[39m\u001b[38;5;124m'\u001b[39m: \u001b[38;5;124m'\u001b[39m\u001b[38;5;124m10\u001b[39m\u001b[38;5;124m'\u001b[39m, \u001b[38;5;124m'\u001b[39m\u001b[38;5;124mnov\u001b[39m\u001b[38;5;124m'\u001b[39m: \u001b[38;5;124m'\u001b[39m\u001b[38;5;124m11\u001b[39m\u001b[38;5;124m'\u001b[39m, \u001b[38;5;124m'\u001b[39m\u001b[38;5;124mdec\u001b[39m\u001b[38;5;124m'\u001b[39m: \u001b[38;5;124m'\u001b[39m\u001b[38;5;124m12\u001b[39m\u001b[38;5;124m'\u001b[39m\n\u001b[0;32m     10\u001b[0m }\n\u001b[0;32m     12\u001b[0m old_file_name \u001b[38;5;241m=\u001b[39m os\u001b[38;5;241m.\u001b[39mpath\u001b[38;5;241m.\u001b[39msplit(folder_path)\n\u001b[1;32m---> 13\u001b[0m parts \u001b[38;5;241m=\u001b[39m \u001b[43mold_file_name\u001b[49m\u001b[38;5;241;43m.\u001b[39;49m\u001b[43msplit\u001b[49m(\u001b[38;5;124m'\u001b[39m\u001b[38;5;124m-\u001b[39m\u001b[38;5;124m'\u001b[39m)\n\u001b[0;32m     15\u001b[0m \u001b[38;5;28;01mif\u001b[39;00m \u001b[38;5;28mlen\u001b[39m(parts) \u001b[38;5;241m==\u001b[39m \u001b[38;5;241m2\u001b[39m:\n\u001b[0;32m     16\u001b[0m     month, date_city \u001b[38;5;241m=\u001b[39m parts\n",
      "\u001b[1;31mAttributeError\u001b[0m: 'tuple' object has no attribute 'split'"
     ]
    }
   ],
   "source": [
    "import glob\n",
    "import os\n",
    "\n",
    "def rename_my_file(old_file_name):\n",
    "    month_dict = {\n",
    "        'jan': '01', 'feb': '02', 'mar': '03',\n",
    "        'apr': '04', 'may': '05', 'jun': '06',\n",
    "        'jul': '07', 'aug': '08', 'sep': '09',\n",
    "        'oct': '10', 'nov': '11', 'dec': '12'\n",
    "    }\n",
    "\n",
    "    old_file_name = os.path.split(folder_path)\n",
    "    parts = old_file_name.split('-')\n",
    "\n",
    "    if len(parts) == 2:\n",
    "        month, date_city = parts\n",
    "\n",
    "        parts_2 = date_city.split('_')\n",
    "\n",
    "        if len(parts_2) == 2: \n",
    "            date, city = parts_2\n",
    "            city = city.split('.')[0]\n",
    "\n",
    "            numerical_month = month_dict[month.lower()]\n",
    "            new_file_name = f\"{numerical_month}-{date}-{city}.txt\"\n",
    "        else:\n",
    "            new_file_name = old_file_name\n",
    "    else:\n",
    "        new_file_name = old_file_name\n",
    "\n",
    "    return new_file_name\n",
    "\n",
    "folder_path = \"C:\\\\Users\\\\USER\\\\Downloads\\\\NUS\\\\Year 1 Sem 2\\\\SP2273\\\\learning-portfolio-GitHubRxce\\\\files, folders & os  exercises\\\\os-collaboration-exercise-data\"\n",
    "\n",
    "txt_files = glob.glob(os.path.join(folder_path, \"*.txt\"))\n",
    "\n",
    "for old_file_name in txt_files:\n",
    "    new_file_name = rename_my_file(old_file_name)\n",
    "\n",
    "    os.rename(old_file_name, new_file_name)\n",
    "\n",
    "print(f'{old_file_name} ----> {new_file_name}')\n"
   ]
  },
  {
   "cell_type": "markdown",
   "id": "ade84ed8-4c40-4c6a-ae13-cf7da0f5074f",
   "metadata": {},
   "source": [
    "## Task 5"
   ]
  },
  {
   "cell_type": "code",
   "execution_count": 19,
   "id": "a874874e-7e8e-4424-aac9-2ca8b29c300e",
   "metadata": {},
   "outputs": [
    {
     "name": "stdout",
     "output_type": "stream",
     "text": [
      "Folder already exists for Cairo: C:\\\\Users\\\\USER\\\\Downloads\\\\NUS\\\\Year 1 Sem 2\\\\SP2273\\\\learning-portfolio-GitHubRxce\\\\files, folders & os  exercises\\\\os-collaboration-exercise-data\\Cairo\n",
      "Folder already exists for Dhaka: C:\\\\Users\\\\USER\\\\Downloads\\\\NUS\\\\Year 1 Sem 2\\\\SP2273\\\\learning-portfolio-GitHubRxce\\\\files, folders & os  exercises\\\\os-collaboration-exercise-data\\Dhaka\n",
      "Folder already exists for Jakarta: C:\\\\Users\\\\USER\\\\Downloads\\\\NUS\\\\Year 1 Sem 2\\\\SP2273\\\\learning-portfolio-GitHubRxce\\\\files, folders & os  exercises\\\\os-collaboration-exercise-data\\Jakarta\n",
      "Folder already exists for Karachi: C:\\\\Users\\\\USER\\\\Downloads\\\\NUS\\\\Year 1 Sem 2\\\\SP2273\\\\learning-portfolio-GitHubRxce\\\\files, folders & os  exercises\\\\os-collaboration-exercise-data\\Karachi\n",
      "Folder already exists for Manila: C:\\\\Users\\\\USER\\\\Downloads\\\\NUS\\\\Year 1 Sem 2\\\\SP2273\\\\learning-portfolio-GitHubRxce\\\\files, folders & os  exercises\\\\os-collaboration-exercise-data\\Manila\n",
      "Folder already exists for Melbourne: C:\\\\Users\\\\USER\\\\Downloads\\\\NUS\\\\Year 1 Sem 2\\\\SP2273\\\\learning-portfolio-GitHubRxce\\\\files, folders & os  exercises\\\\os-collaboration-exercise-data\\Melbourne\n",
      "Folder already exists for Osaka: C:\\\\Users\\\\USER\\\\Downloads\\\\NUS\\\\Year 1 Sem 2\\\\SP2273\\\\learning-portfolio-GitHubRxce\\\\files, folders & os  exercises\\\\os-collaboration-exercise-data\\Osaka\n",
      "Folder already exists for Shanghai: C:\\\\Users\\\\USER\\\\Downloads\\\\NUS\\\\Year 1 Sem 2\\\\SP2273\\\\learning-portfolio-GitHubRxce\\\\files, folders & os  exercises\\\\os-collaboration-exercise-data\\Shanghai\n",
      "Folder already exists for Singapore: C:\\\\Users\\\\USER\\\\Downloads\\\\NUS\\\\Year 1 Sem 2\\\\SP2273\\\\learning-portfolio-GitHubRxce\\\\files, folders & os  exercises\\\\os-collaboration-exercise-data\\Singapore\n",
      "Folder already exists for Tokyo: C:\\\\Users\\\\USER\\\\Downloads\\\\NUS\\\\Year 1 Sem 2\\\\SP2273\\\\learning-portfolio-GitHubRxce\\\\files, folders & os  exercises\\\\os-collaboration-exercise-data\\Tokyo\n"
     ]
    }
   ],
   "source": [
    "import os\n",
    "\n",
    "cities = ['Cairo', 'Dhaka', 'Jakarta', 'Karachi', 'Manila',\n",
    " 'Melbourne', 'Osaka', 'Shanghai', 'Singapore', 'Tokyo']\n",
    "\n",
    "base_folder_path = r\"C:\\\\Users\\\\USER\\\\Downloads\\\\NUS\\\\Year 1 Sem 2\\\\SP2273\\\\learning-portfolio-GitHubRxce\\\\files, folders & os  exercises\\\\os-collaboration-exercise-data\"\n",
    "\n",
    "for city in cities:\n",
    "    city_folder = os.path.join(base_folder_path, city)\n",
    "    \n",
    "    if not os.path.exists(city_folder):\n",
    "        os.makedirs(city_folder)\n",
    "        print(f'Folder created for {city}: {city_folder}')\n",
    "    else:\n",
    "        print(f'Folder already exists for {city}: {city_folder}')\n"
   ]
  },
  {
   "cell_type": "markdown",
   "id": "3d8b635e-ae8a-4760-a2ab-7feca6d72772",
   "metadata": {},
   "source": [
    "## Task 6"
   ]
  },
  {
   "cell_type": "code",
   "execution_count": 32,
   "id": "6f1d5b54-9a99-4542-83da-f65968fee9fa",
   "metadata": {},
   "outputs": [],
   "source": [
    "import os\n",
    "import glob\n",
    "import shutil\n",
    "\n",
    "base_folder_path = r\"C:\\\\Users\\\\USER\\\\Downloads\\\\NUS\\\\Year 1 Sem 2\\\\SP2273\\\\learning-portfolio-GitHubRxce\\\\files, folders & os  exercises\\\\os-collaboration-exercise-data\"\n",
    "\n",
    "cairo_files = glob.glob(os.path.join(base_folder_path, \"*-cairo.txt\"))\n",
    "\n",
    "cairo_folder_path = os.path.join(base_folder_path, 'Cairo_Task6')\n",
    "if not os.path.exists(cairo_folder_path):\n",
    "    os.makedirs(cairo_folder_path)\n",
    "\n",
    "for cairo_file in cairo_files:\n",
    "    shutil.copy(cairo_file, cairo_folder_path)\n",
    "    print(f'File copied to Cairo_Task6 folder: {cairo_file}')\n"
   ]
  },
  {
   "cell_type": "markdown",
   "id": "4f80f52f-f0d6-413b-a183-2844ea482565",
   "metadata": {},
   "source": [
    "## Task 7"
   ]
  },
  {
   "cell_type": "code",
   "execution_count": 35,
   "id": "fc82423e-b6d4-4d11-ae08-01ead6c2d4cd",
   "metadata": {},
   "outputs": [],
   "source": [
    "import os\n",
    "import glob\n",
    "import shutil\n",
    "\n",
    "base_folder_path = r\"C:\\Users\\USER\\Downloads\\NUS\\Year 1 Sem 2\\SP2273\\learning-portfolio-GitHubRxce\\files, folders & os exercises\\os-collaboration-exercise-data\"\n",
    "\n",
    "cities = ['Cairo', 'Dhaka', 'Jakarta', 'Karachi', 'Manila',\n",
    "          'Melbourne', 'Osaka', 'Shanghai', 'Singapore', 'Tokyo']\n",
    "\n",
    "for city in cities:\n",
    "    city_folder_path = os.path.join(base_folder_path, city)\n",
    "    if not os.path.exists(city_folder_path):\n",
    "        os.makedirs(city_folder_path)\n",
    "\n",
    "for city in cities:\n",
    "    city_files = glob.glob(os.path.join(base_folder_path, f\"*-{city.lower()}.txt\"))\n",
    "    city_folder_path = os.path.join(base_folder_path, city)\n",
    "\n",
    "    for city_file in city_files:\n",
    "        shutil.move(city_file, city_folder_path)\n",
    "        print(f'File moved to {city} folder: {city_file}')\n"
   ]
  },
  {
   "cell_type": "code",
   "execution_count": null,
   "id": "a1e92520-c2c2-444e-ae26-a00b38834eb1",
   "metadata": {},
   "outputs": [],
   "source": []
  }
 ],
 "metadata": {
  "kernelspec": {
   "display_name": "Python 3 (ipykernel)",
   "language": "python",
   "name": "python3"
  },
  "language_info": {
   "codemirror_mode": {
    "name": "ipython",
    "version": 3
   },
   "file_extension": ".py",
   "mimetype": "text/x-python",
   "name": "python",
   "nbconvert_exporter": "python",
   "pygments_lexer": "ipython3",
   "version": "3.11.5"
  },
  "toc": {
   "base_numbering": 1,
   "nav_menu": {},
   "number_sections": true,
   "sideBar": true,
   "skip_h1_title": false,
   "title_cell": "Table of Contents",
   "title_sidebar": "Contents",
   "toc_cell": false,
   "toc_position": {},
   "toc_section_display": true,
   "toc_window_display": false
  },
  "vscode": {
   "interpreter": {
    "hash": "31f2aee4e71d21fbe5cf8b01ff0e069b9275f58929596ceb00d14d90e3e16cd6"
   }
  }
 },
 "nbformat": 4,
 "nbformat_minor": 5
}
