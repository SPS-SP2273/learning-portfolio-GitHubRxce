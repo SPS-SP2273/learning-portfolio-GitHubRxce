{
 "cells": [
  {
   "attachments": {},
   "cell_type": "markdown",
   "id": "123456",
   "metadata": {},
   "source": [
    "<div style=\"text-align:left;font-size:2em\"><span style=\"font-weight:bolder;font-size:1.25em\">SP2273 | Learning Portfolio</span><br><br><span style=\"font-weight:bold;color:darkred\">Fundamentals (Need) Exercises</span></div>"
   ]
  },
  {
   "cell_type": "markdown",
   "id": "f00d41e2-85f7-4032-95e5-fd8a8b73324f",
   "metadata": {},
   "source": [
    "# Exercise 1"
   ]
  },
  {
   "cell_type": "markdown",
   "id": "0faf75cb-e26b-46e3-8472-65e48e698dab",
   "metadata": {},
   "source": [
    "Purely from memory, list as many of the basic Python features I mentioned in my notes as you remember.\n",
    "Use a Markdown cell for this list.\n",
    "Visit the notes and complete the list with the ones you missed.\n",
    "Indicate those you missed by putting them in italics."
   ]
  },
  {
   "cell_type": "markdown",
   "id": "7597474d-de35-4823-8a6d-cd2b3e1d7957",
   "metadata": {},
   "source": [
    "1) **`print()`**\n",
    "\n",
    "2) **indentation**\n",
    "\n",
    "3) **dot**\n",
    "\n",
    "4) **comment** using # \n",
    "\n",
    "5) **`if`** can be used as decision maker\n",
    "\n",
    "6) **`import`**\n",
    "\n",
    "7) **`=` is not the same as `==`**\n",
    "\n",
    "8) **brackets**\n",
    "\n",
    "9) use of **`' '`**\n",
    "\n",
    "10) *case sensitive*\n",
    "\n",
    "11) *interrupting python*\n",
    "\n",
    "\n"
   ]
  },
  {
   "cell_type": "markdown",
   "id": "573c419b-3d7a-4bd2-8db8-27af039bebaf",
   "metadata": {},
   "source": [
    "# Exercise 2"
   ]
  },
  {
   "cell_type": "code",
   "execution_count": 13,
   "id": "1398fecf-89f8-4d9f-a19b-4e78a3959ea1",
   "metadata": {},
   "outputs": [
    {
     "name": "stdout",
     "output_type": "stream",
     "text": [
      "3.0 , 4.0 , 5.0\n"
     ]
    }
   ],
   "source": [
    "import math\n",
    "x, y = 3.0, 4.0\n",
    "z = math.sqrt(x**2 + y**2)\n",
    "print(x,\",\",y,\",\",z)"
   ]
  },
  {
   "cell_type": "markdown",
   "id": "4368e922-e5e8-4317-84cb-8378e75e2a77",
   "metadata": {},
   "source": [
    "# Exercise 3"
   ]
  },
  {
   "cell_type": "markdown",
   "id": "6e54f9df-159a-4cc6-883c-0261bb204fed",
   "metadata": {},
   "source": [
    "\r",
    "|  # | Term         | Description                                                                           |   \r\n",
    "|:--:|--------------|---------------------------------------------------------------------------------------|\r\n",
    "|  1 | Function     | A standard code that performs a specific task                                         |  |\r\n",
    "|  2 | Arguments    | Values passed into functions                                                            |\r\n",
    "|  3 | Comments     | Things you wish to say about your code, use #                                            |\r\n",
    "|  4 | Indentations | Define structure and hierarchy of code Allow for interpretation of code              |   |\r\n",
    "|  5 | Packages     | Stores modules                                                                      |   |\r\n",
    "|  6 | .            | Access value of an object                                                            |   |\r\n",
    "|  7 | :            | Indicate start of a new block of code                                                |   |\r\n",
    "|  8 | []           | Define lists                                                                     |   |   |\r\n",
    "|  9 | [[[]]]       | Outer list, Inner list, Nested list (list that appears as an element in another  |   |   |\r\n",
    "| 10 | {}           | Define dictionaries and sets                                                     |   |   |"
   ]
  },
  {
   "cell_type": "markdown",
   "id": "44561394-7933-4fbe-ab4a-3326e2ff5c9a",
   "metadata": {},
   "source": [
    "# Exercise 4 (more than one way to divide)"
   ]
  },
  {
   "cell_type": "code",
   "execution_count": 16,
   "id": "05d96c41-f609-4afa-b6ea-a6a91c36c2e5",
   "metadata": {},
   "outputs": [
    {
     "data": {
      "text/plain": [
       "2.5"
      ]
     },
     "execution_count": 16,
     "metadata": {},
     "output_type": "execute_result"
    }
   ],
   "source": [
    "5/2           \n",
    "\n",
    "# '/' equivalent to Division"
   ]
  },
  {
   "cell_type": "code",
   "execution_count": 20,
   "id": "b0242ae7-5c99-4147-834c-deff106bc2df",
   "metadata": {},
   "outputs": [
    {
     "data": {
      "text/plain": [
       "2"
      ]
     },
     "execution_count": 20,
     "metadata": {},
     "output_type": "execute_result"
    }
   ],
   "source": [
    "5//2          \n",
    "\n",
    "# '//' equivalent to Floor Division - divides one number by another and returns the largest whole number that is less than or equal to the result."
   ]
  },
  {
   "cell_type": "code",
   "execution_count": 19,
   "id": "bc6fb140-8cdd-4842-91fb-a5bc3360d216",
   "metadata": {},
   "outputs": [
    {
     "data": {
      "text/plain": [
       "1"
      ]
     },
     "execution_count": 19,
     "metadata": {},
     "output_type": "execute_result"
    }
   ],
   "source": [
    "5%2           \n",
    "\n",
    "# '%' equivalent to Modulus, remainder derived after dividing left operand by right"
   ]
  }
 ],
 "metadata": {
  "kernelspec": {
   "display_name": "Python 3 (ipykernel)",
   "language": "python",
   "name": "python3"
  },
  "language_info": {
   "codemirror_mode": {
    "name": "ipython",
    "version": 3
   },
   "file_extension": ".py",
   "mimetype": "text/x-python",
   "name": "python",
   "nbconvert_exporter": "python",
   "pygments_lexer": "ipython3",
   "version": "3.11.5"
  },
  "toc": {
   "base_numbering": 1,
   "nav_menu": {},
   "number_sections": true,
   "sideBar": true,
   "skip_h1_title": false,
   "title_cell": "Table of Contents",
   "title_sidebar": "Contents",
   "toc_cell": false,
   "toc_position": {},
   "toc_section_display": true,
   "toc_window_display": false
  },
  "vscode": {
   "interpreter": {
    "hash": "31f2aee4e71d21fbe5cf8b01ff0e069b9275f58929596ceb00d14d90e3e16cd6"
   }
  }
 },
 "nbformat": 4,
 "nbformat_minor": 5
}
