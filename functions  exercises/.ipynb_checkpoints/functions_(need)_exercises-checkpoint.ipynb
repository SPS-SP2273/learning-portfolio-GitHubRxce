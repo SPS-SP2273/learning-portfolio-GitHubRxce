{
 "cells": [
  {
   "attachments": {},
   "cell_type": "markdown",
   "id": "123456",
   "metadata": {},
   "source": [
    "<div style=\"text-align:left;font-size:2em\"><span style=\"font-weight:bolder;font-size:1.25em\">SP2273 | Learning Portfolio</span><br><br><span style=\"font-weight:bold;color:darkred\">Functions (Need) Exercises</span></div>"
   ]
  },
  {
   "cell_type": "markdown",
   "id": "3f3311ad-a670-4844-b12f-ae2ad33e2104",
   "metadata": {},
   "source": [
    "## Exercise 1"
   ]
  },
  {
   "cell_type": "code",
   "execution_count": 1,
   "id": "a0672c67-441a-4eca-a305-f7510d687b43",
   "metadata": {},
   "outputs": [],
   "source": [
    "def greeting(name):\n",
    "    if name == 'Batman':\n",
    "        return 'Hello Batman! So, nice to meet you!'\n",
    "    return f'Hello {name}!'"
   ]
  },
  {
   "cell_type": "code",
   "execution_count": 4,
   "id": "067069cb-068b-4d04-961e-29c5d7dce8f7",
   "metadata": {},
   "outputs": [
    {
     "data": {
      "text/plain": [
       "'Hello !'"
      ]
     },
     "execution_count": 4,
     "metadata": {},
     "output_type": "execute_result"
    }
   ],
   "source": [
    "greeting(\"\")"
   ]
  },
  {
   "cell_type": "markdown",
   "id": "0c0afb0c-68a0-42e3-b481-1b0950491859",
   "metadata": {},
   "source": [
    "If the name input by the user is not `'Batman'`, the condition is false, and the next line of code will be read, returning the output of `'Hello (name)'` even without the use of the term `else`"
   ]
  },
  {
   "cell_type": "markdown",
   "id": "fe0d3e86-d944-4ada-be5d-94d66c1534be",
   "metadata": {},
   "source": [
    "## Exercise 2"
   ]
  },
  {
   "cell_type": "code",
   "execution_count": 5,
   "id": "4b221bba-c555-493b-8c23-944102a19c0c",
   "metadata": {},
   "outputs": [
    {
     "name": "stdin",
     "output_type": "stream",
     "text": [
      "What is your height in meters?  1.6\n",
      "What is your weight in kg?  63.9\n"
     ]
    },
    {
     "name": "stdout",
     "output_type": "stream",
     "text": [
      "Your BMI category is: Normal Weight\n"
     ]
    }
   ],
   "source": [
    "def calculate_bmi(height, weight):\n",
    "    BMI = weight / (height ** 2)\n",
    "    if BMI < 18.5:\n",
    "       return 'Underweight'\n",
    "    elif 18.5 <= BMI < 25:\n",
    "        return 'Normal Weight'\n",
    "    elif 25 <= BMI <= 29.9:\n",
    "        return 'Overweight' \n",
    "    else: \n",
    "        return 'Obesity'\n",
    "\n",
    "height = float(input(\"What is your height in meters? \"))\n",
    "weight = float(input(\"What is your weight in kg? \"))\n",
    "output = calculate_bmi(height, weight)\n",
    "print(\"Your BMI category is:\", output)"
   ]
  },
  {
   "cell_type": "code",
   "execution_count": null,
   "id": "559309d1-7dbf-422e-8cb8-2c2e5d039ab8",
   "metadata": {},
   "outputs": [],
   "source": []
  }
 ],
 "metadata": {
  "kernelspec": {
   "display_name": "Python 3 (ipykernel)",
   "language": "python",
   "name": "python3"
  },
  "language_info": {
   "codemirror_mode": {
    "name": "ipython",
    "version": 3
   },
   "file_extension": ".py",
   "mimetype": "text/x-python",
   "name": "python",
   "nbconvert_exporter": "python",
   "pygments_lexer": "ipython3",
   "version": "3.11.5"
  },
  "toc": {
   "base_numbering": 1,
   "nav_menu": {},
   "number_sections": true,
   "sideBar": true,
   "skip_h1_title": false,
   "title_cell": "Table of Contents",
   "title_sidebar": "Contents",
   "toc_cell": false,
   "toc_position": {},
   "toc_section_display": true,
   "toc_window_display": false
  },
  "vscode": {
   "interpreter": {
    "hash": "31f2aee4e71d21fbe5cf8b01ff0e069b9275f58929596ceb00d14d90e3e16cd6"
   }
  }
 },
 "nbformat": 4,
 "nbformat_minor": 5
}
