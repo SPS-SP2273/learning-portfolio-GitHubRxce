{
 "cells": [
  {
   "attachments": {},
   "cell_type": "markdown",
   "id": "123456",
   "metadata": {},
   "source": [
    "<div style=\"text-align:left;font-size:2em\"><span style=\"font-weight:bolder;font-size:1.25em\">SP2273 | Learning Portfolio</span><br><br><span style=\"font-weight:bold;color:darkred\">Functions (Good) Exercises</span></div>"
   ]
  },
  {
   "cell_type": "markdown",
   "id": "e098e983-5190-487b-8b11-b5343eab7d40",
   "metadata": {},
   "source": [
    "## Exercise 1"
   ]
  },
  {
   "cell_type": "code",
   "execution_count": 5,
   "id": "5ba97073-427f-4df5-a089-d17030eefc7b",
   "metadata": {},
   "outputs": [
    {
     "name": "stdin",
     "output_type": "stream",
     "text": [
      "Input a temperature in Celsius:  55\n",
      "Choose a target scale: Fahrenheit or Kelvin:  g\n"
     ]
    },
    {
     "ename": "ValueError",
     "evalue": "Invalid target_scale. Supported values are 'Fahrenheit' or 'Kelvin'.",
     "output_type": "error",
     "traceback": [
      "\u001b[1;31m---------------------------------------------------------------------------\u001b[0m",
      "\u001b[1;31mValueError\u001b[0m                                Traceback (most recent call last)",
      "Cell \u001b[1;32mIn[5], line 11\u001b[0m\n\u001b[0;32m      8\u001b[0m temperature_celsius \u001b[38;5;241m=\u001b[39m \u001b[38;5;28mfloat\u001b[39m(\u001b[38;5;28minput\u001b[39m(\u001b[38;5;124m\"\u001b[39m\u001b[38;5;124mInput a temperature in Celsius: \u001b[39m\u001b[38;5;124m\"\u001b[39m))\n\u001b[0;32m      9\u001b[0m target_scale \u001b[38;5;241m=\u001b[39m \u001b[38;5;28minput\u001b[39m(\u001b[38;5;124m\"\u001b[39m\u001b[38;5;124mChoose a target scale: Fahrenheit or Kelvin: \u001b[39m\u001b[38;5;124m\"\u001b[39m)\n\u001b[1;32m---> 11\u001b[0m converted_temperature \u001b[38;5;241m=\u001b[39m \u001b[43mconvert_celsius\u001b[49m\u001b[43m(\u001b[49m\u001b[43mtemperature_celsius\u001b[49m\u001b[43m,\u001b[49m\u001b[43m \u001b[49m\u001b[43mtarget_scale\u001b[49m\u001b[43m)\u001b[49m\n\u001b[0;32m     12\u001b[0m \u001b[38;5;28mprint\u001b[39m(\u001b[38;5;124mf\u001b[39m\u001b[38;5;124m\"\u001b[39m\u001b[38;5;124mThe converted temperature is: \u001b[39m\u001b[38;5;132;01m{\u001b[39;00mconverted_temperature\u001b[38;5;132;01m}\u001b[39;00m\u001b[38;5;124m \u001b[39m\u001b[38;5;132;01m{\u001b[39;00mtarget_scale\u001b[38;5;132;01m}\u001b[39;00m\u001b[38;5;124m\"\u001b[39m)\n",
      "Cell \u001b[1;32mIn[5], line 6\u001b[0m, in \u001b[0;36mconvert_celsius\u001b[1;34m(temperature_celsius, target_scale)\u001b[0m\n\u001b[0;32m      4\u001b[0m \u001b[38;5;28;01melif\u001b[39;00m target_scale \u001b[38;5;241m==\u001b[39m \u001b[38;5;124m'\u001b[39m\u001b[38;5;124mKelvin\u001b[39m\u001b[38;5;124m'\u001b[39m \u001b[38;5;129;01mor\u001b[39;00m target_scale \u001b[38;5;241m==\u001b[39m \u001b[38;5;124m'\u001b[39m\u001b[38;5;124mkelvin\u001b[39m\u001b[38;5;124m'\u001b[39m:\n\u001b[0;32m      5\u001b[0m     \u001b[38;5;28;01mreturn\u001b[39;00m temperature_celsius \u001b[38;5;241m+\u001b[39m \u001b[38;5;241m273.15\u001b[39m\n\u001b[1;32m----> 6\u001b[0m \u001b[38;5;28;01mraise\u001b[39;00m \u001b[38;5;167;01mValueError\u001b[39;00m(\u001b[38;5;124m\"\u001b[39m\u001b[38;5;124mInvalid target_scale. Supported values are \u001b[39m\u001b[38;5;124m'\u001b[39m\u001b[38;5;124mFahrenheit\u001b[39m\u001b[38;5;124m'\u001b[39m\u001b[38;5;124m or \u001b[39m\u001b[38;5;124m'\u001b[39m\u001b[38;5;124mKelvin\u001b[39m\u001b[38;5;124m'\u001b[39m\u001b[38;5;124m.\u001b[39m\u001b[38;5;124m\"\u001b[39m)\n",
      "\u001b[1;31mValueError\u001b[0m: Invalid target_scale. Supported values are 'Fahrenheit' or 'Kelvin'."
     ]
    }
   ],
   "source": [
    "def convert_celsius(temperature_celsius, target_scale='Fahrenheit'):\n",
    "    if target_scale == 'Fahrenheit' or target_scale == 'fahrenheit':\n",
    "        return (temperature_celsius * 9/5) + 32\n",
    "    elif target_scale == 'Kelvin' or target_scale == 'kelvin':\n",
    "        return temperature_celsius + 273.15\n",
    "    raise ValueError(\"Invalid target_scale. Supported values are 'Fahrenheit' or 'Kelvin'.\")\n",
    "  \n",
    "temperature_celsius = float(input(\"Input a temperature in Celsius: \"))\n",
    "target_scale = input(\"Choose a target scale: Fahrenheit or Kelvin: \")\n",
    "\n",
    "converted_temperature = convert_celsius(temperature_celsius, target_scale)\n",
    "print(f\"The converted temperature is: {converted_temperature} {target_scale}\")\n",
    "\n",
    "\n",
    "        "
   ]
  },
  {
   "cell_type": "markdown",
   "id": "c2f3765e-6f3b-4e8d-a2db-1233a3d3083e",
   "metadata": {},
   "source": [
    "## Exercise 2"
   ]
  },
  {
   "cell_type": "code",
   "execution_count": 13,
   "id": "d3177c26-dce1-42e5-a458-1bf5353b24d0",
   "metadata": {},
   "outputs": [
    {
     "name": "stdin",
     "output_type": "stream",
     "text": [
      "Input a temperature in Fahrenheit:  71\n",
      "Choose a target scale: Celsius or Kelvin:  kelvin\n"
     ]
    },
    {
     "name": "stdout",
     "output_type": "stream",
     "text": [
      "The converted temperature is: 294.81666666666666 kelvin\n"
     ]
    }
   ],
   "source": [
    "def convert_fahrenheit(temperature_fahrenheit, target_scale='Celsius'):\n",
    "    if target_scale == 'Celsius' or target_scale == 'celsius':\n",
    "        return (temperature_fahrenheit - 32) * 5/9\n",
    "    elif target_scale == 'Kelvin' or target_scale == 'kelvin':\n",
    "        return (temperature_fahrenheit - 32) * 5/9 + 273.15\n",
    "    raise ValueError(\"Invalid target_scale. Supported values are 'Celsius' or 'Kelvin'.\")\n",
    "\n",
    "temperature_fahrenheit = float(input(\"Input a temperature in Fahrenheit: \"))\n",
    "target_scale = input(\"Choose a target scale: Celsius or Kelvin: \")\n",
    "\n",
    "converted_temperature = convert_fahrenheit(temperature_fahrenheit, target_scale)\n",
    "print(f\"The converted temperature is: {converted_temperature} {target_scale}\")"
   ]
  },
  {
   "cell_type": "markdown",
   "id": "3dc25a39-e3e5-46db-917c-6b2684fc0635",
   "metadata": {},
   "source": [
    "## Exercise 3"
   ]
  },
  {
   "cell_type": "code",
   "execution_count": 1,
   "id": "c9bec752-e469-46e4-8b70-0c2f33f99280",
   "metadata": {},
   "outputs": [
    {
     "name": "stdin",
     "output_type": "stream",
     "text": [
      "Temperature:  34\n",
      "Source scale: 'Celsius', 'Fahrenheit', or 'Kelvin':  celsius\n",
      "Target scale:'Celsius', 'Fahrenheit', or 'Kelvin':  fahrenheit\n"
     ]
    },
    {
     "name": "stdout",
     "output_type": "stream",
     "text": [
      "The converted temperature is: 93.2 fahrenheit\n"
     ]
    }
   ],
   "source": [
    "def convert_temperature(temperature, source_scale, target_scale):\n",
    "    if source_scale.lower() == target_scale.lower():\n",
    "        return temperature\n",
    "\n",
    "    if source_scale.lower() == 'celsius':\n",
    "        temperature_celsius = convert_celsius(temperature, target_scale)\n",
    "    elif source_scale.lower() == 'fahrenheit':\n",
    "        temperature_celsius = convert_fahrenheit(temperature, target_scale)\n",
    "    elif source_scale.lower() == 'kelvin':\n",
    "        temperature_celsius = convert_kelvin(temperature, target_scale)\n",
    "    raise ValueError(\"Invalid source_scale. Supported values are 'Celsius', 'Fahrenheit', or 'Kelvin'.\")\n",
    "\n",
    "    return temperature_celsius\n",
    "\n",
    "def convert_celsius(temperature_celsius, target_scale='Fahrenheit'):\n",
    "    if target_scale == 'Fahrenheit' or target_scale == 'fahrenheit':\n",
    "        return (temperature_celsius * 9/5) + 32\n",
    "    elif target_scale == 'Kelvin' or target_scale == 'kelvin':\n",
    "        return temperature_celsius + 273.15\n",
    "    raise ValueError(\"Invalid target_scale. Supported values are 'Fahrenheit' or 'Kelvin'.\")\n",
    "\n",
    "def convert_fahrenheit(temperature_fahrenheit, target_scale='Celsius'):\n",
    "    if target_scale == 'Celsius' or target_scale == 'celsius':\n",
    "        return (temperature_fahrenheit - 32) * 5/9\n",
    "    elif target_scale == 'Kelvin' or target_scale == 'kelvin':\n",
    "        return (temperature_fahrenheit - 32) * 5/9 + 273.15\n",
    "    raise ValueError(\"Invalid target_scale. Supported values are 'Celsius' or 'Kelvin'.\")\n",
    "\n",
    "def convert_kelvin(temperature_kelvin, target_scale='Celsius'):\n",
    "    if target_scale == 'Celsius' or target_scale == 'celsius':\n",
    "        return temperature_kelvin - 273.15\n",
    "    elif target_scale == 'Fahrenheit' or target_scale == 'kelvin':\n",
    "        return (temperature_kelvin - 273.15) * 9/5 + 32\n",
    "    raise ValueError(\"Invalid target_scale. Supported values are 'Celsius' or 'Kelvin'.\")\n",
    "\n",
    "temperature = float(input(\"Temperature: \"))\n",
    "source_scale = input(\"Source scale: 'Celsius', 'Fahrenheit', or 'Kelvin': \")\n",
    "target_scale = input(\"Target scale:'Celsius', 'Fahrenheit', or 'Kelvin': \")\n",
    "\n",
    "\n",
    "converted_temperature = convert_temperature(temperature, source_scale, target_scale)\n",
    "print(f\"The converted temperature is: {converted_temperature} {target_scale}\")"
   ]
  }
 ],
 "metadata": {
  "kernelspec": {
   "display_name": "Python 3 (ipykernel)",
   "language": "python",
   "name": "python3"
  },
  "language_info": {
   "codemirror_mode": {
    "name": "ipython",
    "version": 3
   },
   "file_extension": ".py",
   "mimetype": "text/x-python",
   "name": "python",
   "nbconvert_exporter": "python",
   "pygments_lexer": "ipython3",
   "version": "3.11.5"
  },
  "toc": {
   "base_numbering": 1,
   "nav_menu": {},
   "number_sections": true,
   "sideBar": true,
   "skip_h1_title": false,
   "title_cell": "Table of Contents",
   "title_sidebar": "Contents",
   "toc_cell": false,
   "toc_position": {},
   "toc_section_display": true,
   "toc_window_display": false
  },
  "vscode": {
   "interpreter": {
    "hash": "31f2aee4e71d21fbe5cf8b01ff0e069b9275f58929596ceb00d14d90e3e16cd6"
   }
  }
 },
 "nbformat": 4,
 "nbformat_minor": 5
}
