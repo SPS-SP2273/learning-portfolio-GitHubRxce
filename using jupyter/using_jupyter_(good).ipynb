{
 "cells": [
  {
   "attachments": {},
   "cell_type": "markdown",
   "id": "123456",
   "metadata": {},
   "source": [
    "<div style=\"text-align:left;font-size:2em\"><span style=\"font-weight:bolder;font-size:1.25em\">SP2273 | Learning Portfolio</span><br><br><span style=\"font-weight:bold;color:darkred\">Using Jupyter (Good)</span></div>"
   ]
  },
  {
   "attachments": {},
   "cell_type": "markdown",
   "id": "da30a5de",
   "metadata": {},
   "source": [
    "# Some tips and tricks"
   ]
  },
  {
   "attachments": {},
   "cell_type": "markdown",
   "id": "23bf9635",
   "metadata": {},
   "source": [
    "## Keyboard Shortcuts"
   ]
  },
  {
   "cell_type": "markdown",
   "id": "ca315d0f-e7f4-443d-bc4f-76de0b01117a",
   "metadata": {},
   "source": [
    "Refer to [SP2273 Website](https://sps.nus.edu.sg/sp2273/docs/python_basics/01_using_jupyter/2_using-jupyter_good.html) for keyboard shortcuts (HACKS!)"
   ]
  },
  {
   "attachments": {},
   "cell_type": "markdown",
   "id": "4bf10a26",
   "metadata": {},
   "source": [
    "### Things to note"
   ]
  },
  {
   "cell_type": "markdown",
   "id": "457c928b-12e6-4844-97ac-114e9790fd7c",
   "metadata": {},
   "source": [
    "Refer to [SP2273 Website](https://sps.nus.edu.sg/sp2273/docs/python_basics/01_using_jupyter/2_using-jupyter_good.html)"
   ]
  },
  {
   "attachments": {},
   "cell_type": "markdown",
   "id": "7d560ca0",
   "metadata": {},
   "source": [
    "##  Shell commands"
   ]
  },
  {
   "cell_type": "markdown",
   "id": "ef72b59c-d9b4-42db-837b-59fcbdf02324",
   "metadata": {},
   "source": [
    "You can run ‘terminal’ commands (called shell commands) from Jupyter without switching to the terminal\n",
    "\n",
    "terminal refers to for example, anaconda prompt"
   ]
  },
  {
   "cell_type": "code",
   "execution_count": 2,
   "id": "d7a06851-854d-4456-afdb-fd2820dbca90",
   "metadata": {},
   "outputs": [
    {
     "name": "stdout",
     "output_type": "stream",
     "text": [
      "C:\\Users\\USER\\Downloads\\NUS\\Year 1 Sem 2\\SP2273\\learning-portfolio-GitHubRxce\\using jupyter\n"
     ]
    }
   ],
   "source": [
    "!cd"
   ]
  },
  {
   "cell_type": "code",
   "execution_count": 3,
   "id": "34ce02f8-b5c6-44ae-859d-72b22b3df6ee",
   "metadata": {},
   "outputs": [
    {
     "name": "stdout",
     "output_type": "stream",
     "text": [
      " Volume in drive C is OS\n",
      " Volume Serial Number is 2891-0626\n",
      "\n",
      " Directory of C:\\Users\\USER\\Downloads\\NUS\\Year 1 Sem 2\\SP2273\\learning-portfolio-GitHubRxce\\using jupyter\n",
      "\n",
      "28/01/2024  01:31 am    <DIR>          .\n",
      "28/01/2024  01:31 am    <DIR>          ..\n",
      "26/01/2024  08:35 pm    <DIR>          .ipynb_checkpoints\n",
      "28/01/2024  01:31 am             2,554 using_jupyter_(good).ipynb\n",
      "26/01/2024  11:32 pm             7,110 using_jupyter_(need).ipynb\n",
      "               2 File(s)          9,664 bytes\n",
      "               3 Dir(s)  923,929,563,136 bytes free\n"
     ]
    }
   ],
   "source": [
    "!dir"
   ]
  },
  {
   "cell_type": "markdown",
   "id": "718ca8cf-d354-4082-82ab-bfb72ef0261d",
   "metadata": {},
   "source": [
    "## Install Notebook 7\n"
   ]
  },
  {
   "cell_type": "markdown",
   "id": "5ea97a00-84d4-40f5-9218-d82df018ef63",
   "metadata": {},
   "source": [
    "Installed."
   ]
  },
  {
   "attachments": {},
   "cell_type": "markdown",
   "id": "bb195b0b",
   "metadata": {},
   "source": [
    "## Shell Magic"
   ]
  },
  {
   "cell_type": "code",
   "execution_count": 6,
   "id": "dfbdb12a-9477-4985-b886-281e1c56054b",
   "metadata": {},
   "outputs": [
    {
     "name": "stdout",
     "output_type": "stream",
     "text": [
      "13.2 ns ± 0.548 ns per loop (mean ± std. dev. of 7 runs, 100,000,000 loops each)\n"
     ]
    }
   ],
   "source": [
    "%timeit x=10"
   ]
  },
  {
   "cell_type": "markdown",
   "id": "db08b4ea-a04a-41ff-a799-d57284d41321",
   "metadata": {},
   "source": [
    "This will run for a while and then tell you statistics on how long the command takes to execute. The above is called line magic because it works (i.e., does the timing in this case) for only a single line. If you want to apply it to a whole cell, we will use the cell magic command `%%timeit`."
   ]
  },
  {
   "cell_type": "code",
   "execution_count": 7,
   "id": "bb1f5160-2e56-4167-91bc-5a564a496377",
   "metadata": {},
   "outputs": [
    {
     "name": "stdout",
     "output_type": "stream",
     "text": [
      "25.7 ns ± 2.62 ns per loop (mean ± std. dev. of 7 runs, 10,000,000 loops each)\n"
     ]
    }
   ],
   "source": [
    "%%timeit \n",
    "x=10\n",
    "y=10\n",
    "z=10"
   ]
  },
  {
   "cell_type": "markdown",
   "id": "c4f2012a-2f82-4f54-8101-5438f8ec2662",
   "metadata": {},
   "source": [
    "#### More to explore! \n",
    "\n",
    "`%run`: Run a Python script inside a Jupyter Notebook cell.\n",
    "\n",
    "`%timetit` : Measure the execution time of a single statement.\n",
    "\n",
    "`%load`: Load code from an external script into the current cell.\n",
    "\n",
    "`%%timeit` : Measure the execution time of an entire cell.\n",
    "\n",
    "`%%html` : Render the cell contents as HTML.\n",
    "\n",
    "`%%bash`: Run the cell with Bash comman like cd (change directories), ls (list, files, directories), pwd (print working directory), mkdir (making a new directory) etc."
   ]
  },
  {
   "attachments": {},
   "cell_type": "markdown",
   "id": "a3b01d8c",
   "metadata": {},
   "source": [
    "## The Kernel"
   ]
  },
  {
   "cell_type": "markdown",
   "id": "74e3ec3c-77be-4f2e-8a18-31f4d4188e5c",
   "metadata": {},
   "source": [
    "All the behind-the-scenes work of running a Jupyter Notebook is done by a sub-routine called the Kernel."
   ]
  }
 ],
 "metadata": {
  "kernelspec": {
   "display_name": "Python 3 (ipykernel)",
   "language": "python",
   "name": "python3"
  },
  "language_info": {
   "codemirror_mode": {
    "name": "ipython",
    "version": 3
   },
   "file_extension": ".py",
   "mimetype": "text/x-python",
   "name": "python",
   "nbconvert_exporter": "python",
   "pygments_lexer": "ipython3",
   "version": "3.11.5"
  },
  "toc": {
   "base_numbering": 1,
   "nav_menu": {},
   "number_sections": true,
   "sideBar": true,
   "skip_h1_title": false,
   "title_cell": "Table of Contents",
   "title_sidebar": "Contents",
   "toc_cell": false,
   "toc_position": {},
   "toc_section_display": true,
   "toc_window_display": false
  },
  "vscode": {
   "interpreter": {
    "hash": "31f2aee4e71d21fbe5cf8b01ff0e069b9275f58929596ceb00d14d90e3e16cd6"
   }
  }
 },
 "nbformat": 4,
 "nbformat_minor": 5
}
