{
 "cells": [
  {
   "attachments": {},
   "cell_type": "markdown",
   "id": "123456",
   "metadata": {},
   "source": [
    "<div style=\"text-align:left;font-size:2em\"><span style=\"font-weight:bolder;font-size:1.25em\">SP2273 | Learning Portfolio</span><br><br><span style=\"font-weight:bold;color:darkred\">Using Jupyter (Good)</span></div>"
   ]
  },
  {
   "attachments": {},
   "cell_type": "markdown",
   "id": "f40c8f88",
   "metadata": {},
   "source": [
    "# What to expect in this chapter"
   ]
  },
  {
   "attachments": {},
   "cell_type": "markdown",
   "id": "da30a5de",
   "metadata": {},
   "source": [
    "# 1 Some tips and tricks"
   ]
  },
  {
   "attachments": {},
   "cell_type": "markdown",
   "id": "23bf9635",
   "metadata": {},
   "source": [
    "## 1.1 Keyboard Shortcuts"
   ]
  },
  {
   "attachments": {},
   "cell_type": "markdown",
   "id": "4bf10a26",
   "metadata": {},
   "source": [
    "### Things to note"
   ]
  },
  {
   "cell_type": "code",
   "execution_count": null,
   "id": "cf21d744",
   "metadata": {},
   "outputs": [],
   "source": [
    "\n",
    "# Your code here\n"
   ]
  },
  {
   "attachments": {},
   "cell_type": "markdown",
   "id": "7d560ca0",
   "metadata": {},
   "source": [
    "## 1.2 Shell commands"
   ]
  },
  {
   "cell_type": "code",
   "execution_count": 1,
   "id": "a9c6e6d7-282f-4abd-8d9c-40e45995e7c7",
   "metadata": {},
   "outputs": [
    {
     "name": "stdout",
     "output_type": "stream",
     "text": [
      "C:\\Users\\USER\\Downloads\\NUS\\Year 1 Sem 2\\SP2273\\learning-portfolio-GitHubRxce\\using jupyter\n"
     ]
    }
   ],
   "source": [
    "!cd"
   ]
  },
  {
   "attachments": {},
   "cell_type": "markdown",
   "id": "c8c8a28b",
   "metadata": {},
   "source": [
    "# 2 Jupyter Extensions"
   ]
  },
  {
   "attachments": {},
   "cell_type": "markdown",
   "id": "5771e245",
   "metadata": {},
   "source": [
    "## 2.1 Installing the extensions"
   ]
  },
  {
   "cell_type": "code",
   "execution_count": 3,
   "id": "4f6467af-67cc-48d9-af6d-3a18abb0f92b",
   "metadata": {},
   "outputs": [
    {
     "ename": "SyntaxError",
     "evalue": "invalid syntax (3146777925.py, line 1)",
     "output_type": "error",
     "traceback": [
      "\u001b[1;36m  Cell \u001b[1;32mIn[3], line 1\u001b[1;36m\u001b[0m\n\u001b[1;33m    conda install -c conda-forge jupyter_contrib_nbextensions\u001b[0m\n\u001b[1;37m          ^\u001b[0m\n\u001b[1;31mSyntaxError\u001b[0m\u001b[1;31m:\u001b[0m invalid syntax\n"
     ]
    }
   ],
   "source": [
    "conda install -c conda-forge jupyter_contrib_nbextensions\n",
    "jupyter contrib nbextension install --user"
   ]
  },
  {
   "attachments": {},
   "cell_type": "markdown",
   "id": "647a65ee",
   "metadata": {},
   "source": [
    "## 2.2 Enabling the extensions"
   ]
  },
  {
   "attachments": {},
   "cell_type": "markdown",
   "id": "bb195b0b",
   "metadata": {},
   "source": [
    "# 3 Shell Magic"
   ]
  },
  {
   "attachments": {},
   "cell_type": "markdown",
   "id": "a3b01d8c",
   "metadata": {},
   "source": [
    "# 4 The Kernel"
   ]
  },
  {
   "attachments": {},
   "cell_type": "markdown",
   "id": "ba3ef06f",
   "metadata": {},
   "source": [
    "# 5 EX"
   ]
  }
 ],
 "metadata": {
  "kernelspec": {
   "display_name": "Python 3 (ipykernel)",
   "language": "python",
   "name": "python3"
  },
  "language_info": {
   "codemirror_mode": {
    "name": "ipython",
    "version": 3
   },
   "file_extension": ".py",
   "mimetype": "text/x-python",
   "name": "python",
   "nbconvert_exporter": "python",
   "pygments_lexer": "ipython3",
   "version": "3.11.5"
  },
  "toc": {
   "base_numbering": 1,
   "nav_menu": {},
   "number_sections": true,
   "sideBar": true,
   "skip_h1_title": false,
   "title_cell": "Table of Contents",
   "title_sidebar": "Contents",
   "toc_cell": false,
   "toc_position": {},
   "toc_section_display": true,
   "toc_window_display": false
  },
  "vscode": {
   "interpreter": {
    "hash": "31f2aee4e71d21fbe5cf8b01ff0e069b9275f58929596ceb00d14d90e3e16cd6"
   }
  }
 },
 "nbformat": 4,
 "nbformat_minor": 5
}
