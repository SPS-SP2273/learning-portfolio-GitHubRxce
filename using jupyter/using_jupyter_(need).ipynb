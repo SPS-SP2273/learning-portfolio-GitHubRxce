{
 "cells": [
  {
   "cell_type": "markdown",
   "id": "123456",
   "metadata": {},
   "source": [
    "<div style=\"text-align:left;font-size:2em\"><span style=\"font-weight:bolder;font-size:1.25em\">SP2273 | Learning Portfolio</span><br><br><span style=\"font-weight:bold;color:darkred\">Using Jupyter (Need)</span></div>"
   ]
  },
  {
   "cell_type": "markdown",
   "id": "803cfbda-0d4f-4fda-9203-f41291a3b0eb",
   "metadata": {},
   "source": [
    "# Getting started with Jupyter"
   ]
  },
  {
   "cell_type": "markdown",
   "id": "87958517",
   "metadata": {},
   "source": [
    "## It is all about running cells"
   ]
  },
  {
   "cell_type": "markdown",
   "id": "e845d26b",
   "metadata": {},
   "source": [
    "## A traditional start"
   ]
  },
  {
   "cell_type": "code",
   "execution_count": 1,
   "id": "937e1d80-e1a4-4dac-992b-3adf0e503101",
   "metadata": {},
   "outputs": [
    {
     "name": "stdout",
     "output_type": "stream",
     "text": [
      "Hello World!\n"
     ]
    }
   ],
   "source": [
    "print('Hello World!')\n"
   ]
  },
  {
   "cell_type": "markdown",
   "id": "85c47b0c",
   "metadata": {},
   "source": [
    "# All about Markdown"
   ]
  },
  {
   "cell_type": "markdown",
   "id": "69b39a7a",
   "metadata": {},
   "source": [
    "## Rendering Markdown cells"
   ]
  },
  {
   "cell_type": "markdown",
   "id": "06619948-a4d9-411f-b1d7-efa2d64f3c94",
   "metadata": {},
   "source": [
    "The ships hung in the sky in much the same way that bricks don’t."
   ]
  },
  {
   "cell_type": "markdown",
   "id": "8e879d82-5dbf-4ef6-b586-a6a58a2b3cd8",
   "metadata": {},
   "source": [
    "`print('Hello World')`"
   ]
  },
  {
   "cell_type": "markdown",
   "id": "4d936903",
   "metadata": {},
   "source": [
    "## Some basic syntax"
   ]
  },
  {
   "cell_type": "markdown",
   "id": "b5f29cd8-49ed-4c67-bf92-3151650fc7a0",
   "metadata": {},
   "source": [
    "the ship *hung in the sky* in much the same way that **bricks don't**<sup>1</sup><sub>QUOTE</sub>"
   ]
  },
  {
   "cell_type": "markdown",
   "id": "e0819a3b-83e6-46ac-bccd-32e0f0c99e30",
   "metadata": {},
   "source": [
    "[SP2273 Website](https://sps.nus.edu.sg/sp2273)"
   ]
  },
  {
   "cell_type": "markdown",
   "id": "8acfdc1b-0db4-49a8-a112-4bef7fd7e1a3",
   "metadata": {},
   "source": [
    "| A    |  B   |    C |\n",
    "| :--- | :--: | ---: |\n",
    "| a1   |  b1  |   c1 |\n",
    "| a2   |  b2  |   c2 |\n",
    "| a3   |  b3  |   c3 |"
   ]
  },
  {
   "cell_type": "markdown",
   "id": "fa803de8-2a9f-4fa9-af3f-dd9a025e983b",
   "metadata": {},
   "source": [
    "1. Master Yoda\n",
    "1. Luke Skywalker\n",
    "1. Anakin Skywalker"
   ]
  },
  {
   "cell_type": "markdown",
   "id": "21618f84-0877-4499-ab6b-5200ec979ab1",
   "metadata": {},
   "source": [
    "1. Master Yoda\n",
    "   1. Was a Jedi\n",
    "   1. Was a bit green\n",
    "1. Luke Skywalker\n",
    "   1. Was a Jedi\n",
    "   1. Is Anakin's son.\n",
    "1. Anakin Skywalker\n",
    "   1. Was a Jedi then became a baddie\n",
    "   1. Is famous for saying 'Luke, I am your father'"
   ]
  },
  {
   "cell_type": "markdown",
   "id": "9c1f476a-ceb8-4178-819d-c4c6ba4ef124",
   "metadata": {},
   "source": [
    "1. Master Yoda\n",
    "   - Was a Jedi\n",
    "   - Was a bit green\n",
    "1. Luke Skywalker\n",
    "   - Was a Jedi\n",
    "   - Is Anakin's son.\n",
    "1. Anakin Skywalker\n",
    "   - Was a Jedi then, became a baddie\n",
    "   - Is famous for saying, _'Luke, I am your father'_."
   ]
  },
  {
   "cell_type": "markdown",
   "id": "d37aa420-1b6a-4ad8-b02f-2bcdb1476fbc",
   "metadata": {},
   "source": [
    "$\\sqrt{b^2-4ac}$"
   ]
  },
  {
   "cell_type": "markdown",
   "id": "2a4f75b0-957a-4ac7-9edf-9773ae927be4",
   "metadata": {},
   "source": [
    "$$\n",
    "x = \\dfrac{-b \\pm \\sqrt{b^2-4ac}}{2a}\n",
    "$$"
   ]
  },
  {
   "cell_type": "markdown",
   "id": "a5b2ea6b",
   "metadata": {},
   "source": [
    "## Headings"
   ]
  },
  {
   "cell_type": "markdown",
   "id": "9a9fcefc-95f6-43e2-b348-38c2cd5c4c77",
   "metadata": {},
   "source": [
    "# The largest heading"
   ]
  },
  {
   "cell_type": "markdown",
   "id": "e6790e90-147b-4203-b10a-b89e04d34eb8",
   "metadata": {},
   "source": [
    "## second largest heading"
   ]
  },
  {
   "cell_type": "markdown",
   "id": "e2679e14-9a22-4849-b8ea-018e0e0ad0cd",
   "metadata": {},
   "source": [
    "### third largest heading"
   ]
  },
  {
   "cell_type": "markdown",
   "id": "6cc90c10-ec06-4403-991c-1c7f55d47e16",
   "metadata": {},
   "source": [
    "#### smallest heading "
   ]
  },
  {
   "cell_type": "markdown",
   "id": "540c3f0d",
   "metadata": {},
   "source": [
    "## Images"
   ]
  },
  {
   "cell_type": "markdown",
   "id": "9631ce5d-ab6c-41c0-98ff-699c91eb53cb",
   "metadata": {},
   "source": [
    "![](https://nus.edu.sg/images/default-source/base/logo.png)"
   ]
  },
  {
   "cell_type": "markdown",
   "id": "2ba0425e",
   "metadata": {},
   "source": [
    "## Footnotes"
   ]
  },
  {
   "cell_type": "markdown",
   "id": "22e46895",
   "metadata": {},
   "source": [
    "This is a ^[footnote]"
   ]
  },
  {
   "cell_type": "code",
   "execution_count": null,
   "id": "e2e2ca1c",
   "metadata": {},
   "outputs": [],
   "source": []
  }
 ],
 "metadata": {
  "kernelspec": {
   "display_name": "Python 3 (ipykernel)",
   "language": "python",
   "name": "python3"
  },
  "language_info": {
   "codemirror_mode": {
    "name": "ipython",
    "version": 3
   },
   "file_extension": ".py",
   "mimetype": "text/x-python",
   "name": "python",
   "nbconvert_exporter": "python",
   "pygments_lexer": "ipython3",
   "version": "3.11.5"
  },
  "toc": {
   "base_numbering": 1,
   "nav_menu": {},
   "number_sections": true,
   "sideBar": true,
   "skip_h1_title": false,
   "title_cell": "Table of Contents",
   "title_sidebar": "Contents",
   "toc_cell": false,
   "toc_position": {},
   "toc_section_display": true,
   "toc_window_display": false
  },
  "varInspector": {
   "cols": {
    "lenName": 16,
    "lenType": 16,
    "lenVar": 40
   },
   "kernels_config": {
    "python": {
     "delete_cmd_postfix": "",
     "delete_cmd_prefix": "del ",
     "library": "var_list.py",
     "varRefreshCmd": "print(var_dic_list())"
    },
    "r": {
     "delete_cmd_postfix": ") ",
     "delete_cmd_prefix": "rm(",
     "library": "var_list.r",
     "varRefreshCmd": "cat(var_dic_list()) "
    }
   },
   "types_to_exclude": [
    "module",
    "function",
    "builtin_function_or_method",
    "instance",
    "_Feature"
   ],
   "window_display": false
  },
  "vscode": {
   "interpreter": {
    "hash": "31f2aee4e71d21fbe5cf8b01ff0e069b9275f58929596ceb00d14d90e3e16cd6"
   }
  }
 },
 "nbformat": 4,
 "nbformat_minor": 5
}
