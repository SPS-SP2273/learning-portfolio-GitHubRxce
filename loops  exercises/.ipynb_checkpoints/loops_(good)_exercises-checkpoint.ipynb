{
 "cells": [
  {
   "attachments": {},
   "cell_type": "markdown",
   "id": "123456",
   "metadata": {},
   "source": [
    "<div style=\"text-align:left;font-size:2em\"><span style=\"font-weight:bolder;font-size:1.25em\">SP2273 | Learning Portfolio</span><br><br><span style=\"font-weight:bold;color:darkred\">Loops (Good) Exercises</span></div>"
   ]
  },
  {
   "cell_type": "markdown",
   "id": "cd167816-6368-4694-b51e-086ab8fd4d46",
   "metadata": {},
   "source": [
    "## Exercise 1"
   ]
  },
  {
   "cell_type": "code",
   "execution_count": 4,
   "id": "9e1ed1c6-a707-4d9b-a393-46b7292d9496",
   "metadata": {},
   "outputs": [
    {
     "name": "stdout",
     "output_type": "stream",
     "text": [
      "[1, 9, 25, 49, 81]\n"
     ]
    }
   ],
   "source": [
    "squared_odd_numbers = []\n",
    "\n",
    "for number in range(10):\n",
    "    if number % 2 == 0:\n",
    "        continue \n",
    "    squared_odd_numbers.append(number ** 2)\n",
    "    \n",
    "print(squared_odd_numbers)"
   ]
  },
  {
   "cell_type": "markdown",
   "id": "ade20fbf-fb2a-4389-9dea-c6bb68a5b345",
   "metadata": {},
   "source": [
    "## Exercise 2"
   ]
  },
  {
   "cell_type": "code",
   "execution_count": 6,
   "id": "1094f2d0-cdfc-424f-9a54-a56d2f5e1512",
   "metadata": {},
   "outputs": [
    {
     "data": {
      "text/plain": [
       "[1, 9, 25, 49, 81]"
      ]
     },
     "execution_count": 6,
     "metadata": {},
     "output_type": "execute_result"
    }
   ],
   "source": [
    "[number**2 for number in range(10) if number % 2 != 0]"
   ]
  },
  {
   "cell_type": "markdown",
   "id": "7568a77b-080e-4c63-9e46-5ee40b933b38",
   "metadata": {},
   "source": [
    "## Exercise 3"
   ]
  },
  {
   "cell_type": "code",
   "execution_count": 13,
   "id": "48a95283-d33c-48de-83c2-d67b40c1f768",
   "metadata": {},
   "outputs": [
    {
     "name": "stdout",
     "output_type": "stream",
     "text": [
      "1\n",
      "9\n",
      "25\n",
      "49\n",
      "81\n"
     ]
    },
    {
     "data": {
      "text/plain": [
       "0.0005978000117465854"
      ]
     },
     "execution_count": 13,
     "metadata": {},
     "output_type": "execute_result"
    }
   ],
   "source": [
    "import timeit\n",
    "\n",
    "def code():\n",
    "    for number in range(10):\n",
    "        if number % 2 == 0:\n",
    "            continue \n",
    "        print(number ** 2)\n",
    "\n",
    "timeit.timeit(code, number=1)\n",
    "\n",
    "#%%timeit doesn't work when I try it out...\n",
    "\n",
    "#The reason why %%timeit doesn't work is because of this line here. \n",
    "#%%timeit works by the way of a good scientist: it runs the code at least 1 million times, and measure the average time taken to run the code. \n",
    "#Since in each run of your code the print() function is run 5 times, %%timeit will result in your print() running for 5 million times. \n",
    "#That's too much, giving you an error.\n",
    "#Look below for the corrected version"
   ]
  },
  {
   "cell_type": "code",
   "execution_count": 5,
   "id": "3cffe64f-3e40-487e-8d6c-61d4a181cb12",
   "metadata": {},
   "outputs": [
    {
     "name": "stdout",
     "output_type": "stream",
     "text": [
      "2.44 µs ± 434 ns per loop (mean ± std. dev. of 7 runs, 100,000 loops each)\n"
     ]
    }
   ],
   "source": [
    "%%timeit\n",
    "\n",
    "squared_odd_numbers = []\n",
    "\n",
    "for number in range(10):\n",
    "    if number % 2 == 0:\n",
    "        continue \n",
    "    squared_odd_numbers.append(number ** 2)"
   ]
  },
  {
   "cell_type": "code",
   "execution_count": 9,
   "id": "8a18af20-b815-49e5-907e-8ee262e60d59",
   "metadata": {},
   "outputs": [
    {
     "name": "stdout",
     "output_type": "stream",
     "text": [
      "2.37 µs ± 196 ns per loop (mean ± std. dev. of 7 runs, 100,000 loops each)\n"
     ]
    }
   ],
   "source": [
    "%timeit [number**2 for number in range(10) if number % 2 != 0]"
   ]
  },
  {
   "cell_type": "markdown",
   "id": "7c226019-b8a4-4d4e-87f8-b26a576cfa89",
   "metadata": {},
   "source": [
    "Second method of using **list comprehension is faster**"
   ]
  },
  {
   "cell_type": "markdown",
   "id": "05ce6894-534e-412f-964d-59faa63f5316",
   "metadata": {},
   "source": [
    "## Exercise 4"
   ]
  },
  {
   "cell_type": "code",
   "execution_count": 6,
   "id": "a4d44079-9011-4f91-b875-77ecdf048d3e",
   "metadata": {},
   "outputs": [
    {
     "name": "stdout",
     "output_type": "stream",
     "text": [
      "The sample will take approximately 14 years to reduce to 50 units.\n"
     ]
    }
   ],
   "source": [
    "radioactive_sub = 100\n",
    "radio_sub_decrease = radioactive_sub # initialise value before loop\n",
    "n = 0 # initialise value before loop\n",
    "\n",
    "while True:\n",
    "    n += 1\n",
    "    radio_sub_decrease *= 0.95  # after 5% decay each year\n",
    "    if radio_sub_decrease <= 50:\n",
    "        break\n",
    "\n",
    "print(f\"The sample will take approximately {n} years to reduce to 50 units.\")\n",
    "\n"
   ]
  },
  {
   "cell_type": "markdown",
   "id": "7c25e43e-913d-494b-8bed-2ce2b8b8292e",
   "metadata": {},
   "source": [
    "## Exercise 5"
   ]
  },
  {
   "cell_type": "code",
   "execution_count": 7,
   "id": "438c5490-f067-4ca4-850a-1a96743c9f71",
   "metadata": {},
   "outputs": [
    {
     "name": "stdout",
     "output_type": "stream",
     "text": [
      "In 2016, the change is higher than 3 ppm at 3.41 ppm\n"
     ]
    }
   ],
   "source": [
    "co2_data = [\n",
    "    (2000, 369.55), (2001, 371.14), (2002, 373.28), \n",
    "    (2003, 375.80), (2004, 377.52), (2005, 379.80), \n",
    "    (2006, 381.90), (2007, 383.79), (2008, 385.60), \n",
    "    (2009, 387.43), (2010, 389.90), (2011, 391.65), \n",
    "    (2012, 393.85), (2013, 396.52), (2014, 398.65),\n",
    "    (2015, 400.83), (2016, 404.24), (2017, 406.55), \n",
    "    (2018, 408.52), (2019, 411.44), (2020, 414.24)\n",
    "]\n",
    "\n",
    "for i in range(1, len(co2_data)): \n",
    "    year, CO2_level = co2_data[i]\n",
    "    prev_year, prev_CO2_level = co2_data[i - 1]\n",
    "    CO2_level_diff = CO2_level - prev_CO2_level\n",
    "    \n",
    "    if CO2_level_diff >= 3:\n",
    "        print(f\"In {year}, the change is higher than 3 ppm at {CO2_level_diff:.2f} ppm\")"
   ]
  }
 ],
 "metadata": {
  "kernelspec": {
   "display_name": "Python 3 (ipykernel)",
   "language": "python",
   "name": "python3"
  },
  "language_info": {
   "codemirror_mode": {
    "name": "ipython",
    "version": 3
   },
   "file_extension": ".py",
   "mimetype": "text/x-python",
   "name": "python",
   "nbconvert_exporter": "python",
   "pygments_lexer": "ipython3",
   "version": "3.11.5"
  },
  "toc": {
   "base_numbering": 1,
   "nav_menu": {},
   "number_sections": true,
   "sideBar": true,
   "skip_h1_title": false,
   "title_cell": "Table of Contents",
   "title_sidebar": "Contents",
   "toc_cell": false,
   "toc_position": {},
   "toc_section_display": true,
   "toc_window_display": false
  },
  "vscode": {
   "interpreter": {
    "hash": "31f2aee4e71d21fbe5cf8b01ff0e069b9275f58929596ceb00d14d90e3e16cd6"
   }
  }
 },
 "nbformat": 4,
 "nbformat_minor": 5
}
