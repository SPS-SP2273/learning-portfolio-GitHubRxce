{
 "cells": [
  {
   "attachments": {},
   "cell_type": "markdown",
   "id": "123456",
   "metadata": {},
   "source": [
    "<div style=\"text-align:left;font-size:2em\"><span style=\"font-weight:bolder;font-size:1.25em\">SP2273 | Learning Portfolio</span><br><br><span style=\"font-weight:bold;color:darkred\">Loops (Need) Exercises</span></div>"
   ]
  },
  {
   "cell_type": "markdown",
   "id": "e785e7c5-b925-4e50-97bd-b9f96e31f792",
   "metadata": {},
   "source": [
    "## Exercise 1"
   ]
  },
  {
   "cell_type": "code",
   "execution_count": 10,
   "id": "e72ca162-43be-46ab-b992-24b671cfcbc0",
   "metadata": {},
   "outputs": [
    {
     "name": "stdout",
     "output_type": "stream",
     "text": [
      "0°C is equal to 32.00°F\n",
      "5°C is equal to 41.00°F\n",
      "10°C is equal to 50.00°F\n",
      "15°C is equal to 59.00°F\n",
      "20°C is equal to 68.00°F\n",
      "25°C is equal to 77.00°F\n",
      "30°C is equal to 86.00°F\n",
      "35°C is equal to 95.00°F\n",
      "40°C is equal to 104.00°F\n",
      "45°C is equal to 113.00°F\n",
      "50°C is equal to 122.00°F\n"
     ]
    }
   ],
   "source": [
    "temperatures_celsius = [\n",
    "    0, 5, 10, 15, 20, 25,\n",
    "    30, 35, 40, 45, 50\n",
    "]\n",
    "\n",
    "for temp_celsius in temperatures_celsius: \n",
    "    temp_fahrenheit = temp_celsius * 9/5 + 32\n",
    "    print(f\"{temp_celsius}°C is equal to {temp_fahrenheit:.2f}°F\") \n",
    "    #print statement should be within the loop to print each temperature statement! (indent)\n"
   ]
  },
  {
   "cell_type": "markdown",
   "id": "75510f6e-6ddc-472e-b854-0cc49fc6e70d",
   "metadata": {},
   "source": [
    "## Exercise 2"
   ]
  },
  {
   "cell_type": "code",
   "execution_count": 11,
   "id": "b23cfe2d-f89e-4ab9-a1b3-b2e64aa0a37f",
   "metadata": {},
   "outputs": [
    {
     "name": "stdout",
     "output_type": "stream",
     "text": [
      "A1\tA2\tA3\t\n",
      "\n",
      "B1\tB2\tB3\t\n",
      "\n",
      "C1\tC2\tC3\t\n",
      "\n"
     ]
    }
   ],
   "source": [
    "for letter in ['A', 'B', 'C']:\n",
    "    for number in [1, 2, 3]:\n",
    "        print(f'{letter}{number}', end='\\t')\n",
    "    print('\\n')"
   ]
  },
  {
   "cell_type": "code",
   "execution_count": 6,
   "id": "3233167d-117a-4f76-b3d1-b660d0e76083",
   "metadata": {},
   "outputs": [
    {
     "name": "stdout",
     "output_type": "stream",
     "text": [
      "1 : 1   2   3   4   5  \n",
      "2 : 2   4   6   8   10 \n",
      "3 : 3   6   9   12  15 \n",
      "4 : 4   8   12  16  20 \n",
      "5 : 5   10  15  20  25 \n"
     ]
    }
   ],
   "source": [
    "for factor in range(1, 6):\n",
    "    row = f\"{factor} :\"\n",
    "    \n",
    "    for number in range(1, 6):\n",
    "        product = factor * number\n",
    "        row += f\"{product: < 3} \"  # use '<' for left alignment, width of 3 characters between each product, adding the product to the row\n",
    "    \n",
    "    print(row)\n"
   ]
  },
  {
   "cell_type": "code",
   "execution_count": null,
   "id": "f5f2b47c-a5f8-43f9-ad23-fa68e26f4658",
   "metadata": {},
   "outputs": [],
   "source": []
  }
 ],
 "metadata": {
  "kernelspec": {
   "display_name": "Python 3 (ipykernel)",
   "language": "python",
   "name": "python3"
  },
  "language_info": {
   "codemirror_mode": {
    "name": "ipython",
    "version": 3
   },
   "file_extension": ".py",
   "mimetype": "text/x-python",
   "name": "python",
   "nbconvert_exporter": "python",
   "pygments_lexer": "ipython3",
   "version": "3.11.5"
  },
  "toc": {
   "base_numbering": 1,
   "nav_menu": {},
   "number_sections": true,
   "sideBar": true,
   "skip_h1_title": false,
   "title_cell": "Table of Contents",
   "title_sidebar": "Contents",
   "toc_cell": false,
   "toc_position": {},
   "toc_section_display": true,
   "toc_window_display": false
  },
  "vscode": {
   "interpreter": {
    "hash": "31f2aee4e71d21fbe5cf8b01ff0e069b9275f58929596ceb00d14d90e3e16cd6"
   }
  }
 },
 "nbformat": 4,
 "nbformat_minor": 5
}
