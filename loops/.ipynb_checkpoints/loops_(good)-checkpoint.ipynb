{
 "cells": [
  {
   "attachments": {},
   "cell_type": "markdown",
   "id": "123456",
   "metadata": {},
   "source": [
    "<div style=\"text-align:left;font-size:2em\"><span style=\"font-weight:bolder;font-size:1.25em\">SP2273 | Learning Portfolio</span><br><br><span style=\"font-weight:bold;color:darkred\">Loops (Good)</span></div>"
   ]
  },
  {
   "attachments": {},
   "cell_type": "markdown",
   "id": "884e3f7a",
   "metadata": {},
   "source": [
    "# What to expect in this chapter"
   ]
  },
  {
   "attachments": {},
   "cell_type": "markdown",
   "id": "c717c61e",
   "metadata": {},
   "source": [
    "# Interrupting the flow"
   ]
  },
  {
   "cell_type": "code",
   "execution_count": 1,
   "id": "39eaddd6-66ee-418d-8f3d-303269e2718e",
   "metadata": {},
   "outputs": [
    {
     "name": "stdout",
     "output_type": "stream",
     "text": [
      "0 1\n",
      "1 10\n",
      "2 100\n",
      "3 1000\n"
     ]
    }
   ],
   "source": [
    "for power in range(5):\n",
    "    number = 10**power\n",
    "\n",
    "    # breaking using 'if', same method works for 'while' loops\n",
    "    if number > 5000: \n",
    "        break # loop break upon meeting a certain condition\n",
    "    print(power, number)"
   ]
  },
  {
   "cell_type": "code",
   "execution_count": 5,
   "id": "4c3cb60e-6c1e-4feb-a374-c759eb8bb398",
   "metadata": {},
   "outputs": [
    {
     "name": "stdout",
     "output_type": "stream",
     "text": [
      "0 1\n",
      "1 10\n",
      "2 100\n",
      "4 10000\n"
     ]
    }
   ],
   "source": [
    "for power in range(5):\n",
    "\n",
    "    # continuing using 'if' for a certain condition to be met such that 'continue' can take effect. Works for 'while' loops too.\n",
    "    if power == 3:\n",
    "        continue        # where continue means \"don't proceed with the loop\"\n",
    "                        # IN THE CURRENT LOOP\n",
    "                        # if i == 3, loop doesn't continue for power == 3, however it still continues for power > 3. NOT THE SAME AS BREAKING.\n",
    "    number = 10**power\n",
    "    print(power, number)"
   ]
  },
  {
   "cell_type": "markdown",
   "id": "5f7c612d-886b-41c1-a7c2-8f7c8deeadb9",
   "metadata": {},
   "source": [
    "^ in the above output, notice how theres no output for when `power == 3`"
   ]
  },
  {
   "cell_type": "code",
   "execution_count": 6,
   "id": "cc2f381f-c20e-45da-9896-cd6a1df81337",
   "metadata": {},
   "outputs": [
    {
     "name": "stdout",
     "output_type": "stream",
     "text": [
      "1\n",
      "3\n",
      "5\n",
      "7\n",
      "9\n"
     ]
    }
   ],
   "source": [
    "for number in range(10):\n",
    "    # Don't proceed if the remainder is zero\n",
    "    # I.e. if the number is even\n",
    "    if number % 2 == 0:\n",
    "        continue\n",
    "    print(number)"
   ]
  },
  {
   "cell_type": "code",
   "execution_count": 7,
   "id": "ae5e7192-c447-4987-b905-857850590ba7",
   "metadata": {},
   "outputs": [
    {
     "name": "stdout",
     "output_type": "stream",
     "text": [
      "0\n",
      "1\n",
      "2\n",
      "3\n",
      "4\n"
     ]
    }
   ],
   "source": [
    "number=0\n",
    "\n",
    "while True:\n",
    "    print(number)\n",
    "    number += 1\n",
    "    if number > 4: break"
   ]
  },
  {
   "attachments": {},
   "cell_type": "markdown",
   "id": "a6360d83",
   "metadata": {},
   "source": [
    "# List comprehension! (Creating new lists from other lists)"
   ]
  },
  {
   "attachments": {},
   "cell_type": "markdown",
   "id": "9372a3e7",
   "metadata": {},
   "source": [
    "## Basic syntax"
   ]
  },
  {
   "cell_type": "code",
   "execution_count": 8,
   "id": "3323af85-2ad2-4226-a4a4-09bbcbfc2874",
   "metadata": {},
   "outputs": [
    {
     "data": {
      "text/plain": [
       "[0, 1, 2, 3, 4]"
      ]
     },
     "execution_count": 8,
     "metadata": {},
     "output_type": "execute_result"
    }
   ],
   "source": [
    "[number for number in range(5)]\n",
    "\n",
    "# put the thing you want as an output at the front"
   ]
  },
  {
   "cell_type": "code",
   "execution_count": 10,
   "id": "a388dca3-8470-462e-b60b-43fac9cfa17a",
   "metadata": {},
   "outputs": [
    {
     "data": {
      "text/plain": [
       "[0, 1, 4, 9, 16]"
      ]
     },
     "execution_count": 10,
     "metadata": {},
     "output_type": "execute_result"
    }
   ],
   "source": [
    "[number**2 for number in range(5)]\n",
    "\n",
    "# recall * means multiply, ** means square"
   ]
  },
  {
   "attachments": {},
   "cell_type": "markdown",
   "id": "3722eb9e",
   "metadata": {},
   "source": [
    "## List comprehension with conditions"
   ]
  },
  {
   "cell_type": "code",
   "execution_count": 11,
   "id": "5af5b1bd-2d9a-4723-8d42-50aabcebfb6b",
   "metadata": {},
   "outputs": [
    {
     "data": {
      "text/plain": [
       "[0, 2, 4, 6, 8]"
      ]
     },
     "execution_count": 11,
     "metadata": {},
     "output_type": "execute_result"
    }
   ],
   "source": [
    "[number for number in range(10) if number % 2 ==0]\n",
    "\n",
    "# 'if' condition term is used"
   ]
  },
  {
   "attachments": {},
   "cell_type": "markdown",
   "id": "309793be",
   "metadata": {},
   "source": [
    "# Other useful stuff"
   ]
  },
  {
   "attachments": {},
   "cell_type": "markdown",
   "id": "fc301b56",
   "metadata": {},
   "source": [
    "## for with unpacking"
   ]
  },
  {
   "cell_type": "code",
   "execution_count": 12,
   "id": "bb947fa0-9b40-48a1-af8d-fe6ddf5ba543",
   "metadata": {},
   "outputs": [
    {
     "name": "stdout",
     "output_type": "stream",
     "text": [
      "x = 1, y = 2, z = 3\n"
     ]
    }
   ],
   "source": [
    "x, y, z=[1, 2, 3]\n",
    "print(f'x = {x}, y = {y}, z = {z}') "
   ]
  },
  {
   "cell_type": "code",
   "execution_count": 13,
   "id": "850be899-cca8-48c4-a8d9-d0db987cdaa7",
   "metadata": {},
   "outputs": [
    {
     "name": "stdout",
     "output_type": "stream",
     "text": [
      "Natasha Romanoff is Marvel's Black Widow!\n",
      "Tony Stark is Marvel's Iron Man!\n",
      "Stephen Strange is Marvel's Doctor Strange!\n"
     ]
    }
   ],
   "source": [
    "py_superhero_info = [['Natasha Romanoff', 'Black Widow'],\n",
    "                     ['Tony Stark', 'Iron Man'],\n",
    "                     ['Stephen Strange', 'Doctor Strange']]\n",
    "\n",
    "for real_name, super_name in py_superhero_info:\n",
    "    print(f\"{real_name} is Marvel's {super_name}!\")\n",
    "\n",
    "# notice how 'for' is used. \n",
    "# The format of the elements in the list is in terms of ['A', 'B'], \n",
    "# hence upon using the term 'for', we assign variable names to A and B. \n",
    "# in the above example, real_name is assigned to A, super_name is assigned to B \n",
    "# the term 'in' is then used to indicate which list we are unpacking"
   ]
  },
  {
   "attachments": {},
   "cell_type": "markdown",
   "id": "719b7349",
   "metadata": {},
   "source": [
    "## for with zip()"
   ]
  },
  {
   "cell_type": "code",
   "execution_count": 14,
   "id": "de35aca3-01fb-400b-8dc3-95ddf8a475fc",
   "metadata": {},
   "outputs": [
    {
     "name": "stdout",
     "output_type": "stream",
     "text": [
      "Natasha Romanoff is Marvel's Black Widow!\n",
      "Tony Stark is Marvel's Iron Man!\n",
      "Stephen Strange is Marvel's Doctor Strange!\n"
     ]
    }
   ],
   "source": [
    "super_names = [\"Black Widow\", \"Iron Man\", \"Doctor Strange\"]\n",
    "real_names = [\"Natasha Romanoff\", \"Tony Stark\", \"Stephen Strange\"]\n",
    "\n",
    "# using zip() to combine 2 lists\n",
    "for real_name, super_name in zip(real_names,super_names):\n",
    "    print(f\"{real_name} is Marvel's {super_name}!\")"
   ]
  },
  {
   "attachments": {},
   "cell_type": "markdown",
   "id": "717cb86d",
   "metadata": {},
   "source": [
    "## for with dictionaries"
   ]
  },
  {
   "cell_type": "code",
   "execution_count": 15,
   "id": "1acce23d-309d-4720-af51-e14c3273fe21",
   "metadata": {},
   "outputs": [
    {
     "name": "stdout",
     "output_type": "stream",
     "text": [
      "Natasha Romanoff is Marvel's Black Widow!\n",
      "Tony Stark is Marvel's Iron Man!\n",
      "Stephen Strange is Marvel's Doctor Strange!\n"
     ]
    }
   ],
   "source": [
    "superhero_info={\"Natasha Romanoff\": \"Black Widow\",\n",
    "                \"Tony Stark\": \"Iron Man\",\n",
    "                \"Stephen Strange\": \"Doctor Strange\"}\n",
    "\n",
    "for key, value in superhero_info.items():\n",
    "    print(f\"{key} is Marvel's {value}!\")\n",
    "\n",
    "# where key is name of the actor/actress\n",
    "# where value is the character they are acting as \n",
    "# items() function allow you to access and unpack the items in the dictionary"
   ]
  },
  {
   "cell_type": "code",
   "execution_count": 16,
   "id": "a5fe6e51-093a-4717-8839-c5a7dc6f883c",
   "metadata": {},
   "outputs": [
    {
     "name": "stdout",
     "output_type": "stream",
     "text": [
      "Natasha Romanoff is Marvel's Black Widow!\n",
      "Tony Stark is Marvel's Iron Man!\n",
      "Stephen Strange is Marvel's Doctor Strange!\n"
     ]
    }
   ],
   "source": [
    "# you could also directly access the elements in the dictionary without using the item() function\n",
    "\n",
    "for key in superhero_info.keys():\n",
    "    value=superhero_info[key] # this will call out the corresponding value of the respective key\n",
    "    print(f\"{key} is Marvel's {value}!\")"
   ]
  },
  {
   "attachments": {},
   "cell_type": "markdown",
   "id": "f54cd3b0",
   "metadata": {},
   "source": [
    "## Footnotes"
   ]
  }
 ],
 "metadata": {
  "kernelspec": {
   "display_name": "Python 3 (ipykernel)",
   "language": "python",
   "name": "python3"
  },
  "language_info": {
   "codemirror_mode": {
    "name": "ipython",
    "version": 3
   },
   "file_extension": ".py",
   "mimetype": "text/x-python",
   "name": "python",
   "nbconvert_exporter": "python",
   "pygments_lexer": "ipython3",
   "version": "3.11.5"
  },
  "toc": {
   "base_numbering": 1,
   "nav_menu": {},
   "number_sections": true,
   "sideBar": true,
   "skip_h1_title": false,
   "title_cell": "Table of Contents",
   "title_sidebar": "Contents",
   "toc_cell": false,
   "toc_position": {},
   "toc_section_display": true,
   "toc_window_display": false
  },
  "vscode": {
   "interpreter": {
    "hash": "31f2aee4e71d21fbe5cf8b01ff0e069b9275f58929596ceb00d14d90e3e16cd6"
   }
  }
 },
 "nbformat": 4,
 "nbformat_minor": 5
}
