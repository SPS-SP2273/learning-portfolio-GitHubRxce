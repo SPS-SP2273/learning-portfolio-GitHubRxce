{
 "cells": [
  {
   "attachments": {},
   "cell_type": "markdown",
   "id": "123456",
   "metadata": {},
   "source": [
    "<div style=\"text-align:left;font-size:2em\"><span style=\"font-weight:bolder;font-size:1.25em\">SP2273 | Learning Portfolio</span><br><br><span style=\"font-weight:bold;color:darkred\">Using Jupyter (Need), Exercises</span></div>"
   ]
  },
  {
   "attachments": {},
   "cell_type": "markdown",
   "id": "5d0d39e7",
   "metadata": {},
   "source": [
    "# Quadratic Equations"
   ]
  },
  {
   "attachments": {},
   "cell_type": "markdown",
   "id": "c4e5ee65",
   "metadata": {},
   "source": [
    "## Introduction\n",
    "\n",
    "!(attachment:476102f8-3a37-4aa4-8602-b77eed40d070.png)\n",
    "\n",
    "The general form of a quadratic equation is: \n",
    "\n",
    "<div style='text-align: center;'>\n",
    "$ \\ {ax^{2}+bx+c=0} $\n",
    "\n",
    "<div style='text-align: left;'>\n",
    "    \n",
    "## Solutions\n",
    "\n",
    "Provided $a \\ne 0$, we can use an elementary algebraic method called [completing the square](https://en.wikipedia.org/wiki/Completing_the_square) to show that a quadratic equation has the following solution:\n",
    "<div style='text-align: center;'>\n",
    "$ x = \\dfrac{-b \\pm \\sqrt{b^2-4ac}}{2a} $\n",
    "\n",
    "<div style='text-align: left;'>\n",
    "    \n",
    "## Discriminant\n",
    "\n",
    "The quantity $Δ = {b^2-4ac}$ is called the **discriminant** of the equation and decides the nature of its solutions. The table below shows the various possibilities. \n",
    "\n",
    "| Discriminant      | Roots    |   \n",
    "|------------------------|------------------------------------------|\n",
    "| $Δ = b^2-4ac = 0$      | A single solution of ${-b/(2a)}$         |   \n",
    "| $Δ = b^2-4ac > 0$      | Two distinct solutions                   |   \n",
    "| $Δ = b^2-4ac < 0$      | No real solutions; both are complex.     |   "
   ]
  },
  {
   "cell_type": "markdown",
   "id": "a71c262f-968f-4527-a75b-1925be828c54",
   "metadata": {},
   "source": [
    "# 2. Use a Markdown cell to answer the following."
   ]
  },
  {
   "cell_type": "markdown",
   "id": "9dcc8476-daa5-4f75-9279-de0d9c60b1c2",
   "metadata": {},
   "source": [
    "Q: What is a Git **repository**?\n",
    "\n",
    "   A location to store code, files, and a file's revision history\n",
    "\n",
    "Q2: Git keeps tracks of ____ BLANK ____ in the files in our repository.\n",
    "\n",
    "   changes\n",
    "\n",
    "Q3: What is a **commit**?\n",
    "\n",
    "A commit specifies what file changes you want to be recorded and attaches a brief description of these changes. \n",
    "\n",
    "Q4: What is a **push**?\n",
    "\n",
    "To share (push) changes with GitHub (and anyone else sharing the repository)\n",
    "\n",
    "Q5: What is a **pull**?\n",
    "\n",
    "To save(pull) changes from the cloud to our local machine\n",
    "\n",
    "Q6: What is the difference between **GitHub** and **GitHub Desktop**?\n",
    "\n",
    "GitHub is an online platform for hosting Git repositories, while GitHub Desktop is a desktop application that provides a graphical interface for interacting with Git repositories on your local machine"
   ]
  }
 ],
 "metadata": {
  "kernelspec": {
   "display_name": "Python 3 (ipykernel)",
   "language": "python",
   "name": "python3"
  },
  "language_info": {
   "codemirror_mode": {
    "name": "ipython",
    "version": 3
   },
   "file_extension": ".py",
   "mimetype": "text/x-python",
   "name": "python",
   "nbconvert_exporter": "python",
   "pygments_lexer": "ipython3",
   "version": "3.11.5"
  },
  "toc": {
   "base_numbering": 1,
   "nav_menu": {},
   "number_sections": true,
   "sideBar": true,
   "skip_h1_title": false,
   "title_cell": "Table of Contents",
   "title_sidebar": "Contents",
   "toc_cell": false,
   "toc_position": {},
   "toc_section_display": true,
   "toc_window_display": false
  },
  "vscode": {
   "interpreter": {
    "hash": "31f2aee4e71d21fbe5cf8b01ff0e069b9275f58929596ceb00d14d90e3e16cd6"
   }
  }
 },
 "nbformat": 4,
 "nbformat_minor": 5
}
