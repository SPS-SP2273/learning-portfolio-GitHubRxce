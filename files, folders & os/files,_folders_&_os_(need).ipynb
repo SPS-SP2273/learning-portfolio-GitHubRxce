{
 "cells": [
  {
   "attachments": {},
   "cell_type": "markdown",
   "id": "123456",
   "metadata": {},
   "source": [
    "<div style=\"text-align:left;font-size:2em\"><span style=\"font-weight:bolder;font-size:1.25em\">SP2273 | Learning Portfolio</span><br><br><span style=\"font-weight:bold;color:darkred\">Files, Folders & OS (Need)</span></div>"
   ]
  },
  {
   "attachments": {},
   "cell_type": "markdown",
   "id": "e7107aa4",
   "metadata": {},
   "source": [
    "# What to expect in this chapter"
   ]
  },
  {
   "cell_type": "markdown",
   "id": "8d32b038-b16f-42e1-8027-bb89f5330234",
   "metadata": {},
   "source": [
    "Communicate with the OS to **create, modify, move, copy, and delete** files and directories (folders)"
   ]
  },
  {
   "attachments": {},
   "cell_type": "markdown",
   "id": "519472ee",
   "metadata": {},
   "source": [
    "# 1 Important concepts"
   ]
  },
  {
   "cell_type": "markdown",
   "id": "7c962cf1-4ae7-478c-86d4-0debdbf2120f",
   "metadata": {},
   "source": [
    "**folder** and **directory** refer to the same thing."
   ]
  },
  {
   "attachments": {},
   "cell_type": "markdown",
   "id": "d78e2079",
   "metadata": {},
   "source": [
    "## 1.1 Path"
   ]
  },
  {
   "cell_type": "markdown",
   "id": "d282eeab-e875-46c5-81dd-f350be54babc",
   "metadata": {},
   "source": [
    "- File address\n",
    "\n",
    "- Tells us how to find a file or folder \n",
    "\n",
    "- You can specify it absolutely or relatively."
   ]
  },
  {
   "cell_type": "code",
   "execution_count": null,
   "id": "70802bde-00b8-4ac0-816d-f9757f9b4fd1",
   "metadata": {},
   "outputs": [],
   "source": [
    "C:\\\\Users\\Chammika\\Desktop\\data-01.txt # example of a file path"
   ]
  },
  {
   "attachments": {},
   "cell_type": "markdown",
   "id": "329bb184",
   "metadata": {},
   "source": [
    "## 1.2 More about relative paths"
   ]
  },
  {
   "cell_type": "markdown",
   "id": "34436145-8ceb-456e-94bc-f3d0fc809955",
   "metadata": {},
   "source": [
    "`.` means '**this**  folder'\n",
    "\n",
    "`..` means 'one folder **above**' \n",
    "\n",
    "For example: \n",
    "\n",
    "`.\\data-files\\data-01.txt` means the file `data-01.txt` in the folder data-files in the **current** folder.\n",
    "\n",
    "\n",
    "`..\\data-files\\data-01.txt` means the file `data-01.txt` in the folder data-files located in the **folder above**."
   ]
  },
  {
   "attachments": {},
   "cell_type": "markdown",
   "id": "d1bad583",
   "metadata": {},
   "source": [
    "### macOS or Linux"
   ]
  },
  {
   "cell_type": "markdown",
   "id": "51250752-06a8-4277-94b1-d35e5444b919",
   "metadata": {},
   "source": [
    "macOS and Linux allow you to use `~` to refer to your home directory.\n",
    "\n",
    "`~\\Desktop\\data-01.txt`"
   ]
  },
  {
   "attachments": {},
   "cell_type": "markdown",
   "id": "72a90b6e",
   "metadata": {},
   "source": [
    "## 1.3 Path separator"
   ]
  },
  {
   "cell_type": "markdown",
   "id": "f0fada04-4947-401f-99cd-1a2511b9d4ec",
   "metadata": {},
   "source": [
    "#### !! Windows uses `\\` as the path separator while macOS (or Linux) uses `/`.\n",
    "\n",
    "Windows: `C:\\\\Users\\chammika\\Desktop\\data-01.txt`\n",
    "\n",
    "macOS or Linux: `/Users/chammika/Desktop/data-01.txt`"
   ]
  },
  {
   "attachments": {},
   "cell_type": "markdown",
   "id": "eeb1b3b3",
   "metadata": {},
   "source": [
    "## 1.4 Text files vs. Binary files"
   ]
  },
  {
   "cell_type": "markdown",
   "id": "ecc9ef79-8b43-4dc3-828b-0bb22f224509",
   "metadata": {},
   "source": [
    "**Text files**: \n",
    "\n",
    "- Simple and can be opened, but can get bulky\n",
    "\n",
    "- Contents can be examined by almost any software (e.g., Notepad, TextEdit, Jupiter,…).\n",
    "\n",
    "-  `.txt`, `.md` or `.csv`.\n",
    "\n",
    "**Binary files**: \n",
    "\n",
    "- Require some processing to make sense of what they contain (Eg. if you look at the raw data in a `.png` file, you will see gibberish).\n",
    "\n",
    "- Only run on specific OSs (Eg. `Excel.app` on a Mac will not run on Windows, nor will the `Excel.exe` file run on macOS (or Linux)).\n",
    "\n",
    "- Some reasons for having binary files are speed and size"
   ]
  },
  {
   "attachments": {},
   "cell_type": "markdown",
   "id": "d65ea79b",
   "metadata": {},
   "source": [
    "## 1.5 Extensions"
   ]
  },
  {
   "cell_type": "markdown",
   "id": "de35feda-65c4-4d49-aa7d-6f559e76a424",
   "metadata": {},
   "source": [
    "- Separated from the name of a file by a `.`\n",
    "  \n",
    "- `name.extension`\n",
    "  \n",
    "- Lets the OS know what software or app to use to extract the details in a file.\n",
    "\n",
    "- `.xlsx`: use Excel\n",
    "  \n",
    "- `.pptx`: use PowerPoint.\n",
    "\n",
    "- **Be careful about changing the extension of a file, as it will make your OS cough and throw a fit.** Try changing a `.xlsx` to `.txt` and double-click."
   ]
  },
  {
   "attachments": {},
   "cell_type": "markdown",
   "id": "c834ac0f",
   "metadata": {},
   "source": [
    "# 2 Opening and closing files"
   ]
  },
  {
   "attachments": {},
   "cell_type": "markdown",
   "id": "8ef6c0dc",
   "metadata": {},
   "source": [
    "## 2.1 Reading data"
   ]
  },
  {
   "attachments": {},
   "cell_type": "markdown",
   "id": "6165c9fc",
   "metadata": {},
   "source": [
    "## 2.2 Writing data"
   ]
  },
  {
   "attachments": {},
   "cell_type": "markdown",
   "id": "82bb91e9",
   "metadata": {},
   "source": [
    "### Writing to a file in one go"
   ]
  },
  {
   "cell_type": "code",
   "execution_count": null,
   "id": "67abfd4c",
   "metadata": {},
   "outputs": [],
   "source": [
    "\n",
    "# Your code here\n"
   ]
  },
  {
   "attachments": {},
   "cell_type": "markdown",
   "id": "ba3ec33e",
   "metadata": {},
   "source": [
    "### Writing to a file, line by line"
   ]
  },
  {
   "cell_type": "code",
   "execution_count": null,
   "id": "84115797",
   "metadata": {},
   "outputs": [],
   "source": [
    "\n",
    "# Your code here\n"
   ]
  },
  {
   "attachments": {},
   "cell_type": "markdown",
   "id": "6e8f6bb5",
   "metadata": {},
   "source": [
    "# 3 Some useful packages"
   ]
  },
  {
   "attachments": {},
   "cell_type": "markdown",
   "id": "59391787",
   "metadata": {},
   "source": [
    "# 4 OS safe paths"
   ]
  },
  {
   "attachments": {},
   "cell_type": "markdown",
   "id": "05a75eec",
   "metadata": {},
   "source": [
    "# 5 Folders"
   ]
  },
  {
   "attachments": {},
   "cell_type": "markdown",
   "id": "842efc19",
   "metadata": {},
   "source": [
    "## 5.1 Creating folders"
   ]
  },
  {
   "attachments": {},
   "cell_type": "markdown",
   "id": "b74d420b",
   "metadata": {},
   "source": [
    "## 5.2 Checking for existence"
   ]
  },
  {
   "attachments": {},
   "cell_type": "markdown",
   "id": "799a660e",
   "metadata": {},
   "source": [
    "### Using try-except"
   ]
  },
  {
   "cell_type": "code",
   "execution_count": null,
   "id": "0ac71fa0",
   "metadata": {},
   "outputs": [],
   "source": [
    "\n",
    "# Your code here\n"
   ]
  },
  {
   "attachments": {},
   "cell_type": "markdown",
   "id": "5e4a7108",
   "metadata": {},
   "source": [
    "### Using os.path.exists()"
   ]
  },
  {
   "cell_type": "code",
   "execution_count": null,
   "id": "bf5d0dbe",
   "metadata": {},
   "outputs": [],
   "source": [
    "\n",
    "# Your code here\n"
   ]
  },
  {
   "attachments": {},
   "cell_type": "markdown",
   "id": "a2ac9589",
   "metadata": {},
   "source": [
    "## 5.3 Copying files"
   ]
  },
  {
   "attachments": {},
   "cell_type": "markdown",
   "id": "f3fd8207",
   "metadata": {},
   "source": [
    "# 6 Listing and looking for files"
   ]
  },
  {
   "attachments": {},
   "cell_type": "markdown",
   "id": "e7ea1041",
   "metadata": {},
   "source": [
    "# 7 Extracting file info"
   ]
  },
  {
   "attachments": {},
   "cell_type": "markdown",
   "id": "a7fd0ce6",
   "metadata": {},
   "source": [
    "# 8 Deleting stuff"
   ]
  }
 ],
 "metadata": {
  "kernelspec": {
   "display_name": "Python 3 (ipykernel)",
   "language": "python",
   "name": "python3"
  },
  "language_info": {
   "codemirror_mode": {
    "name": "ipython",
    "version": 3
   },
   "file_extension": ".py",
   "mimetype": "text/x-python",
   "name": "python",
   "nbconvert_exporter": "python",
   "pygments_lexer": "ipython3",
   "version": "3.11.5"
  },
  "toc": {
   "base_numbering": 1,
   "nav_menu": {},
   "number_sections": true,
   "sideBar": true,
   "skip_h1_title": false,
   "title_cell": "Table of Contents",
   "title_sidebar": "Contents",
   "toc_cell": false,
   "toc_position": {},
   "toc_section_display": true,
   "toc_window_display": false
  },
  "vscode": {
   "interpreter": {
    "hash": "31f2aee4e71d21fbe5cf8b01ff0e069b9275f58929596ceb00d14d90e3e16cd6"
   }
  }
 },
 "nbformat": 4,
 "nbformat_minor": 5
}
